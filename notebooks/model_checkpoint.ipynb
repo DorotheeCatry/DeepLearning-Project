{
 "cells": [
  {
   "cell_type": "code",
   "execution_count": 31,
   "id": "99350c16",
   "metadata": {},
   "outputs": [],
   "source": [
    "import pandas as pd\n",
    "import numpy as np\n",
    "import sys\n",
    "import os\n",
    "\n",
    "# Allows to get the module in utils\n",
    "sys.path.append(os.path.abspath(\"..\"))\n",
    "\n",
    "\n",
    "from utils.load import load_data\n",
    "from utils.preprocessing import preprocess\n",
    "from utils.split import split_data\n",
    "\n",
    "from sklearn.metrics import classification_report, confusion_matrix\n",
    "# from sklearn.preprocessing import StandardScaler\n",
    "# from sklearn.preprocessing import OneHotEncoder, StandardScaler, LabelEncoder\n",
    "# from sklearn.compose import ColumnTransformer\n",
    "\n",
    "import tensorflow as tf\n",
    "\n",
    "import seaborn as sns\n",
    "import matplotlib.pyplot as plt\n",
    "from sklearn.utils import class_weight\n",
    "\n",
    "import datetime"
   ]
  },
  {
   "cell_type": "code",
   "execution_count": 32,
   "id": "cd7d143f",
   "metadata": {},
   "outputs": [],
   "source": [
    "# Load data\n",
    "df = load_data()"
   ]
  },
  {
   "cell_type": "code",
   "execution_count": 33,
   "id": "d5f90814",
   "metadata": {},
   "outputs": [],
   "source": [
    "# Split and preprocess datas set\n",
    "X_train, X_val, X_test, y_train, y_val, y_test = split_data(df)\n",
    "\n",
    "X_train_processed, X_test_processed, X_val_processed, y_test_encoding, y_train_encoded, y_val_encoding, pipeline, le = preprocess(X_train, X_val, X_test, y_train, y_val, y_test)"
   ]
  },
  {
   "cell_type": "code",
   "execution_count": 34,
   "id": "5010af23",
   "metadata": {},
   "outputs": [],
   "source": [
    "X_train_dense = X_train_processed.toarray() if hasattr(X_train_processed, \"toarray\") else X_train_processed\n",
    "X_val_dense = X_val_processed.toarray() if hasattr(X_val_processed, \"toarray\") else X_val_processed\n",
    "X_test_dense = X_test_processed.toarray() if hasattr(X_test_processed, \"toarray\") else X_test_processed"
   ]
  },
  {
   "cell_type": "code",
   "execution_count": 35,
   "id": "4f40492f",
   "metadata": {},
   "outputs": [],
   "source": [
    "y_train_vector = y_train_encoded.reshape(-1)\n",
    "y_val_vector = y_val_encoding.reshape(-1)\n",
    "y_test_vector = y_test_encoding.reshape(-1)"
   ]
  },
  {
   "cell_type": "code",
   "execution_count": 36,
   "id": "6f5480bb",
   "metadata": {},
   "outputs": [
    {
     "data": {
      "text/html": [
       "<pre style=\"white-space:pre;overflow-x:auto;line-height:normal;font-family:Menlo,'DejaVu Sans Mono',consolas,'Courier New',monospace\"><span style=\"font-weight: bold\">Model: \"sequential_1\"</span>\n",
       "</pre>\n"
      ],
      "text/plain": [
       "\u001b[1mModel: \"sequential_1\"\u001b[0m\n"
      ]
     },
     "metadata": {},
     "output_type": "display_data"
    },
    {
     "data": {
      "text/html": [
       "<pre style=\"white-space:pre;overflow-x:auto;line-height:normal;font-family:Menlo,'DejaVu Sans Mono',consolas,'Courier New',monospace\">┏━━━━━━━━━━━━━━━━━━━━━━━━━━━━━━━━━┳━━━━━━━━━━━━━━━━━━━━━━━━┳━━━━━━━━━━━━━━━┓\n",
       "┃<span style=\"font-weight: bold\"> Layer (type)                    </span>┃<span style=\"font-weight: bold\"> Output Shape           </span>┃<span style=\"font-weight: bold\">       Param # </span>┃\n",
       "┡━━━━━━━━━━━━━━━━━━━━━━━━━━━━━━━━━╇━━━━━━━━━━━━━━━━━━━━━━━━╇━━━━━━━━━━━━━━━┩\n",
       "│ dense_3 (<span style=\"color: #0087ff; text-decoration-color: #0087ff\">Dense</span>)                 │ (<span style=\"color: #00d7ff; text-decoration-color: #00d7ff\">None</span>, <span style=\"color: #00af00; text-decoration-color: #00af00\">64</span>)             │         <span style=\"color: #00af00; text-decoration-color: #00af00\">1,984</span> │\n",
       "├─────────────────────────────────┼────────────────────────┼───────────────┤\n",
       "│ dense_4 (<span style=\"color: #0087ff; text-decoration-color: #0087ff\">Dense</span>)                 │ (<span style=\"color: #00d7ff; text-decoration-color: #00d7ff\">None</span>, <span style=\"color: #00af00; text-decoration-color: #00af00\">64</span>)             │         <span style=\"color: #00af00; text-decoration-color: #00af00\">4,160</span> │\n",
       "├─────────────────────────────────┼────────────────────────┼───────────────┤\n",
       "│ dense_5 (<span style=\"color: #0087ff; text-decoration-color: #0087ff\">Dense</span>)                 │ (<span style=\"color: #00d7ff; text-decoration-color: #00d7ff\">None</span>, <span style=\"color: #00af00; text-decoration-color: #00af00\">1</span>)              │            <span style=\"color: #00af00; text-decoration-color: #00af00\">65</span> │\n",
       "└─────────────────────────────────┴────────────────────────┴───────────────┘\n",
       "</pre>\n"
      ],
      "text/plain": [
       "┏━━━━━━━━━━━━━━━━━━━━━━━━━━━━━━━━━┳━━━━━━━━━━━━━━━━━━━━━━━━┳━━━━━━━━━━━━━━━┓\n",
       "┃\u001b[1m \u001b[0m\u001b[1mLayer (type)                   \u001b[0m\u001b[1m \u001b[0m┃\u001b[1m \u001b[0m\u001b[1mOutput Shape          \u001b[0m\u001b[1m \u001b[0m┃\u001b[1m \u001b[0m\u001b[1m      Param #\u001b[0m\u001b[1m \u001b[0m┃\n",
       "┡━━━━━━━━━━━━━━━━━━━━━━━━━━━━━━━━━╇━━━━━━━━━━━━━━━━━━━━━━━━╇━━━━━━━━━━━━━━━┩\n",
       "│ dense_3 (\u001b[38;5;33mDense\u001b[0m)                 │ (\u001b[38;5;45mNone\u001b[0m, \u001b[38;5;34m64\u001b[0m)             │         \u001b[38;5;34m1,984\u001b[0m │\n",
       "├─────────────────────────────────┼────────────────────────┼───────────────┤\n",
       "│ dense_4 (\u001b[38;5;33mDense\u001b[0m)                 │ (\u001b[38;5;45mNone\u001b[0m, \u001b[38;5;34m64\u001b[0m)             │         \u001b[38;5;34m4,160\u001b[0m │\n",
       "├─────────────────────────────────┼────────────────────────┼───────────────┤\n",
       "│ dense_5 (\u001b[38;5;33mDense\u001b[0m)                 │ (\u001b[38;5;45mNone\u001b[0m, \u001b[38;5;34m1\u001b[0m)              │            \u001b[38;5;34m65\u001b[0m │\n",
       "└─────────────────────────────────┴────────────────────────┴───────────────┘\n"
      ]
     },
     "metadata": {},
     "output_type": "display_data"
    },
    {
     "data": {
      "text/html": [
       "<pre style=\"white-space:pre;overflow-x:auto;line-height:normal;font-family:Menlo,'DejaVu Sans Mono',consolas,'Courier New',monospace\"><span style=\"font-weight: bold\"> Total params: </span><span style=\"color: #00af00; text-decoration-color: #00af00\">6,209</span> (24.25 KB)\n",
       "</pre>\n"
      ],
      "text/plain": [
       "\u001b[1m Total params: \u001b[0m\u001b[38;5;34m6,209\u001b[0m (24.25 KB)\n"
      ]
     },
     "metadata": {},
     "output_type": "display_data"
    },
    {
     "data": {
      "text/html": [
       "<pre style=\"white-space:pre;overflow-x:auto;line-height:normal;font-family:Menlo,'DejaVu Sans Mono',consolas,'Courier New',monospace\"><span style=\"font-weight: bold\"> Trainable params: </span><span style=\"color: #00af00; text-decoration-color: #00af00\">6,209</span> (24.25 KB)\n",
       "</pre>\n"
      ],
      "text/plain": [
       "\u001b[1m Trainable params: \u001b[0m\u001b[38;5;34m6,209\u001b[0m (24.25 KB)\n"
      ]
     },
     "metadata": {},
     "output_type": "display_data"
    },
    {
     "data": {
      "text/html": [
       "<pre style=\"white-space:pre;overflow-x:auto;line-height:normal;font-family:Menlo,'DejaVu Sans Mono',consolas,'Courier New',monospace\"><span style=\"font-weight: bold\"> Non-trainable params: </span><span style=\"color: #00af00; text-decoration-color: #00af00\">0</span> (0.00 B)\n",
       "</pre>\n"
      ],
      "text/plain": [
       "\u001b[1m Non-trainable params: \u001b[0m\u001b[38;5;34m0\u001b[0m (0.00 B)\n"
      ]
     },
     "metadata": {},
     "output_type": "display_data"
    }
   ],
   "source": [
    "input_dim = X_train_dense.shape[1]\n",
    "\n",
    "model = tf.keras.Sequential([\n",
    "    tf.keras.layers.Input(shape=(input_dim,)),\n",
    "    tf.keras.layers.Dense(64, activation='relu'),\n",
    "    tf.keras.layers.Dense(64, activation='relu'),\n",
    "    tf.keras.layers.Dense(1, activation='sigmoid')\n",
    "])\n",
    "\n",
    "model.compile(\n",
    "    optimizer=tf.keras.optimizers.Adam(learning_rate=0.01),\n",
    "    loss='binary_crossentropy',\n",
    "    metrics=['accuracy', 'recall', 'auc']\n",
    ")\n",
    "\n",
    "model.summary()"
   ]
  },
  {
   "cell_type": "markdown",
   "id": "0a2644ac",
   "metadata": {},
   "source": [
    "### Exemple of checkpoints use\n",
    "\n",
    "model.compile(loss=..., optimizer=...,\n",
    "              metrics=['accuracy'])\n",
    "\n",
    "EPOCHS = 10\n",
    "checkpoint_filepath = '/tmp/ckpt/checkpoint.model.keras'\n",
    "model_checkpoint_callback = keras.callbacks.ModelCheckpoint(\n",
    "    filepath=checkpoint_filepath,\n",
    "    monitor='val_accuracy',\n",
    "    mode='max',\n",
    "    save_best_only=True)\n",
    "\n",
    "- Model is saved at the end of every epoch, if it's the best seen so far.\n",
    "model.fit(epochs=EPOCHS, callbacks=[model_checkpoint_callback])\n",
    "\n",
    "- The model (that are considered the best) can be loaded as -\n",
    "keras.models.load_model(checkpoint_filepath)\n",
    "\n",
    "- Alternatively, one could checkpoint just the model weights as -\n",
    "checkpoint_filepath = '/tmp/ckpt/checkpoint.weights.h5'\n",
    "model_checkpoint_callback = keras.callbacks.ModelCheckpoint(\n",
    "    filepath=checkpoint_filepath,\n",
    "    save_weights_only=True,\n",
    "    monitor='val_accuracy',\n",
    "    mode='max',\n",
    "    save_best_only=True)\n",
    "\n",
    "- Model weights are saved at the end of every epoch, if it's the best seen so far.\n",
    "model.fit(epochs=EPOCHS, callbacks=[model_checkpoint_callback])\n",
    "\n",
    "- The model weights (that are considered the best) can be loaded as -\n",
    "model.load_weights(checkpoint_filepath)\n"
   ]
  },
  {
   "cell_type": "code",
   "execution_count": 37,
   "id": "b47a1e32",
   "metadata": {},
   "outputs": [],
   "source": [
    "checkpoint_path = \"checkpoints/churn_models.keras\"\n",
    "os.makedirs(os.path.dirname(checkpoint_path), exist_ok=True)\n",
    "model_ckpt = tf.keras.callbacks.ModelCheckpoint(\n",
    "    filepath=checkpoint_path,\n",
    "    monitor='val_accuracy',\n",
    "    mode='max',  \n",
    "    save_best_only=True,# sauvegarde le modèle qui maximise l’accuracy de validation\n",
    "    verbose=1\n",
    ")"
   ]
  },
  {
   "cell_type": "code",
   "execution_count": 38,
   "id": "aa14d11f",
   "metadata": {},
   "outputs": [
    {
     "name": "stdout",
     "output_type": "stream",
     "text": [
      "Epoch 1/20\n",
      "\u001b[1m278/282\u001b[0m \u001b[32m━━━━━━━━━━━━━━━━━━━\u001b[0m\u001b[37m━\u001b[0m \u001b[1m0s\u001b[0m 3ms/step - accuracy: 0.7692 - auc: 0.8058 - loss: 0.4662 - recall: 0.5035\n",
      "Epoch 1: val_accuracy improved from -inf to 0.80302, saving model to checkpoints/churn_models.keras\n",
      "\u001b[1m282/282\u001b[0m \u001b[32m━━━━━━━━━━━━━━━━━━━━\u001b[0m\u001b[37m\u001b[0m \u001b[1m2s\u001b[0m 5ms/step - accuracy: 0.7694 - auc: 0.8060 - loss: 0.4658 - recall: 0.5034 - val_accuracy: 0.8030 - val_auc: 0.8398 - val_loss: 0.4336 - val_recall: 0.4649\n",
      "Epoch 2/20\n",
      "\u001b[1m273/282\u001b[0m \u001b[32m━━━━━━━━━━━━━━━━━━━\u001b[0m\u001b[37m━\u001b[0m \u001b[1m0s\u001b[0m 4ms/step - accuracy: 0.7910 - auc: 0.8262 - loss: 0.4340 - recall: 0.4523\n",
      "Epoch 2: val_accuracy did not improve from 0.80302\n",
      "\u001b[1m282/282\u001b[0m \u001b[32m━━━━━━━━━━━━━━━━━━━━\u001b[0m\u001b[37m\u001b[0m \u001b[1m1s\u001b[0m 5ms/step - accuracy: 0.7911 - auc: 0.8265 - loss: 0.4338 - recall: 0.4535 - val_accuracy: 0.7959 - val_auc: 0.8437 - val_loss: 0.4315 - val_recall: 0.4047\n",
      "Epoch 3/20\n",
      "\u001b[1m279/282\u001b[0m \u001b[32m━━━━━━━━━━━━━━━━━━━\u001b[0m\u001b[37m━\u001b[0m \u001b[1m0s\u001b[0m 5ms/step - accuracy: 0.8048 - auc: 0.8390 - loss: 0.4193 - recall: 0.4912\n",
      "Epoch 3: val_accuracy improved from 0.80302 to 0.81278, saving model to checkpoints/churn_models.keras\n",
      "\u001b[1m282/282\u001b[0m \u001b[32m━━━━━━━━━━━━━━━━━━━━\u001b[0m\u001b[37m\u001b[0m \u001b[1m2s\u001b[0m 7ms/step - accuracy: 0.8048 - auc: 0.8390 - loss: 0.4194 - recall: 0.4911 - val_accuracy: 0.8128 - val_auc: 0.8419 - val_loss: 0.4362 - val_recall: 0.5217\n",
      "Epoch 4/20\n",
      "\u001b[1m281/282\u001b[0m \u001b[32m━━━━━━━━━━━━━━━━━━━\u001b[0m\u001b[37m━\u001b[0m \u001b[1m0s\u001b[0m 4ms/step - accuracy: 0.8048 - auc: 0.8500 - loss: 0.4149 - recall: 0.5165\n",
      "Epoch 4: val_accuracy did not improve from 0.81278\n",
      "\u001b[1m282/282\u001b[0m \u001b[32m━━━━━━━━━━━━━━━━━━━━\u001b[0m\u001b[37m\u001b[0m \u001b[1m2s\u001b[0m 5ms/step - accuracy: 0.8048 - auc: 0.8499 - loss: 0.4150 - recall: 0.5163 - val_accuracy: 0.8012 - val_auc: 0.8417 - val_loss: 0.4242 - val_recall: 0.4916\n",
      "Epoch 5/20\n",
      "\u001b[1m280/282\u001b[0m \u001b[32m━━━━━━━━━━━━━━━━━━━\u001b[0m\u001b[37m━\u001b[0m \u001b[1m0s\u001b[0m 4ms/step - accuracy: 0.8035 - auc: 0.8426 - loss: 0.4185 - recall: 0.4968\n",
      "Epoch 5: val_accuracy did not improve from 0.81278\n",
      "\u001b[1m282/282\u001b[0m \u001b[32m━━━━━━━━━━━━━━━━━━━━\u001b[0m\u001b[37m\u001b[0m \u001b[1m2s\u001b[0m 6ms/step - accuracy: 0.8035 - auc: 0.8427 - loss: 0.4185 - recall: 0.4968 - val_accuracy: 0.7853 - val_auc: 0.8359 - val_loss: 0.4380 - val_recall: 0.3177\n",
      "Epoch 6/20\n",
      "\u001b[1m259/282\u001b[0m \u001b[32m━━━━━━━━━━━━━━━━━━\u001b[0m\u001b[37m━━\u001b[0m \u001b[1m0s\u001b[0m 4ms/step - accuracy: 0.7993 - auc: 0.8463 - loss: 0.4180 - recall: 0.4316\n",
      "Epoch 6: val_accuracy did not improve from 0.81278\n",
      "\u001b[1m282/282\u001b[0m \u001b[32m━━━━━━━━━━━━━━━━━━━━\u001b[0m\u001b[37m\u001b[0m \u001b[1m2s\u001b[0m 6ms/step - accuracy: 0.7999 - auc: 0.8462 - loss: 0.4180 - recall: 0.4365 - val_accuracy: 0.7862 - val_auc: 0.8306 - val_loss: 0.4375 - val_recall: 0.3144\n",
      "Epoch 7/20\n",
      "\u001b[1m273/282\u001b[0m \u001b[32m━━━━━━━━━━━━━━━━━━━\u001b[0m\u001b[37m━\u001b[0m \u001b[1m0s\u001b[0m 4ms/step - accuracy: 0.8029 - auc: 0.8453 - loss: 0.4199 - recall: 0.4907\n",
      "Epoch 7: val_accuracy improved from 0.81278 to 0.81366, saving model to checkpoints/churn_models.keras\n",
      "\u001b[1m282/282\u001b[0m \u001b[32m━━━━━━━━━━━━━━━━━━━━\u001b[0m\u001b[37m\u001b[0m \u001b[1m1s\u001b[0m 5ms/step - accuracy: 0.8030 - auc: 0.8454 - loss: 0.4197 - recall: 0.4907 - val_accuracy: 0.8137 - val_auc: 0.8420 - val_loss: 0.4214 - val_recall: 0.5351\n",
      "Epoch 8/20\n",
      "\u001b[1m272/282\u001b[0m \u001b[32m━━━━━━━━━━━━━━━━━━━\u001b[0m\u001b[37m━\u001b[0m \u001b[1m0s\u001b[0m 5ms/step - accuracy: 0.7979 - auc: 0.8488 - loss: 0.4129 - recall: 0.4955\n",
      "Epoch 8: val_accuracy did not improve from 0.81366\n",
      "\u001b[1m282/282\u001b[0m \u001b[32m━━━━━━━━━━━━━━━━━━━━\u001b[0m\u001b[37m\u001b[0m \u001b[1m2s\u001b[0m 6ms/step - accuracy: 0.7982 - auc: 0.8490 - loss: 0.4127 - recall: 0.4957 - val_accuracy: 0.8057 - val_auc: 0.8381 - val_loss: 0.4572 - val_recall: 0.5452\n",
      "Epoch 9/20\n",
      "\u001b[1m277/282\u001b[0m \u001b[32m━━━━━━━━━━━━━━━━━━━\u001b[0m\u001b[37m━\u001b[0m \u001b[1m0s\u001b[0m 6ms/step - accuracy: 0.8087 - auc: 0.8583 - loss: 0.4034 - recall: 0.5133\n",
      "Epoch 9: val_accuracy did not improve from 0.81366\n",
      "\u001b[1m282/282\u001b[0m \u001b[32m━━━━━━━━━━━━━━━━━━━━\u001b[0m\u001b[37m\u001b[0m \u001b[1m2s\u001b[0m 7ms/step - accuracy: 0.8087 - auc: 0.8582 - loss: 0.4035 - recall: 0.5130 - val_accuracy: 0.8021 - val_auc: 0.8265 - val_loss: 0.4405 - val_recall: 0.4816\n",
      "Epoch 10/20\n",
      "\u001b[1m279/282\u001b[0m \u001b[32m━━━━━━━━━━━━━━━━━━━\u001b[0m\u001b[37m━\u001b[0m \u001b[1m0s\u001b[0m 2ms/step - accuracy: 0.8241 - auc: 0.8689 - loss: 0.3844 - recall: 0.5182\n",
      "Epoch 10: val_accuracy did not improve from 0.81366\n",
      "\u001b[1m282/282\u001b[0m \u001b[32m━━━━━━━━━━━━━━━━━━━━\u001b[0m\u001b[37m\u001b[0m \u001b[1m1s\u001b[0m 3ms/step - accuracy: 0.8240 - auc: 0.8688 - loss: 0.3847 - recall: 0.5181 - val_accuracy: 0.7915 - val_auc: 0.8308 - val_loss: 0.4605 - val_recall: 0.3579\n",
      "Epoch 11/20\n",
      "\u001b[1m274/282\u001b[0m \u001b[32m━━━━━━━━━━━━━━━━━━━\u001b[0m\u001b[37m━\u001b[0m \u001b[1m0s\u001b[0m 5ms/step - accuracy: 0.8109 - auc: 0.8617 - loss: 0.3950 - recall: 0.4975\n",
      "Epoch 11: val_accuracy did not improve from 0.81366\n",
      "\u001b[1m282/282\u001b[0m \u001b[32m━━━━━━━━━━━━━━━━━━━━\u001b[0m\u001b[37m\u001b[0m \u001b[1m2s\u001b[0m 7ms/step - accuracy: 0.8110 - auc: 0.8618 - loss: 0.3949 - recall: 0.4983 - val_accuracy: 0.7755 - val_auc: 0.8236 - val_loss: 0.4470 - val_recall: 0.3411\n",
      "Epoch 12/20\n",
      "\u001b[1m281/282\u001b[0m \u001b[32m━━━━━━━━━━━━━━━━━━━\u001b[0m\u001b[37m━\u001b[0m \u001b[1m0s\u001b[0m 6ms/step - accuracy: 0.8184 - auc: 0.8757 - loss: 0.3819 - recall: 0.5181\n",
      "Epoch 12: val_accuracy did not improve from 0.81366\n",
      "\u001b[1m282/282\u001b[0m \u001b[32m━━━━━━━━━━━━━━━━━━━━\u001b[0m\u001b[37m\u001b[0m \u001b[1m2s\u001b[0m 7ms/step - accuracy: 0.8184 - auc: 0.8756 - loss: 0.3820 - recall: 0.5181 - val_accuracy: 0.8039 - val_auc: 0.8289 - val_loss: 0.4562 - val_recall: 0.4448\n",
      "Epoch 13/20\n",
      "\u001b[1m271/282\u001b[0m \u001b[32m━━━━━━━━━━━━━━━━━━━\u001b[0m\u001b[37m━\u001b[0m \u001b[1m0s\u001b[0m 2ms/step - accuracy: 0.8167 - auc: 0.8768 - loss: 0.3755 - recall: 0.5175\n",
      "Epoch 13: val_accuracy did not improve from 0.81366\n",
      "\u001b[1m282/282\u001b[0m \u001b[32m━━━━━━━━━━━━━━━━━━━━\u001b[0m\u001b[37m\u001b[0m \u001b[1m1s\u001b[0m 2ms/step - accuracy: 0.8164 - auc: 0.8764 - loss: 0.3761 - recall: 0.5167 - val_accuracy: 0.7933 - val_auc: 0.8255 - val_loss: 0.4592 - val_recall: 0.4214\n",
      "Epoch 14/20\n",
      "\u001b[1m279/282\u001b[0m \u001b[32m━━━━━━━━━━━━━━━━━━━\u001b[0m\u001b[37m━\u001b[0m \u001b[1m0s\u001b[0m 4ms/step - accuracy: 0.8072 - auc: 0.8596 - loss: 0.4000 - recall: 0.4906\n",
      "Epoch 14: val_accuracy did not improve from 0.81366\n",
      "\u001b[1m282/282\u001b[0m \u001b[32m━━━━━━━━━━━━━━━━━━━━\u001b[0m\u001b[37m\u001b[0m \u001b[1m2s\u001b[0m 6ms/step - accuracy: 0.8072 - auc: 0.8597 - loss: 0.3998 - recall: 0.4908 - val_accuracy: 0.7870 - val_auc: 0.8284 - val_loss: 0.4508 - val_recall: 0.3880\n",
      "Epoch 15/20\n",
      "\u001b[1m273/282\u001b[0m \u001b[32m━━━━━━━━━━━━━━━━━━━\u001b[0m\u001b[37m━\u001b[0m \u001b[1m0s\u001b[0m 2ms/step - accuracy: 0.8183 - auc: 0.8711 - loss: 0.3894 - recall: 0.5278\n",
      "Epoch 15: val_accuracy did not improve from 0.81366\n",
      "\u001b[1m282/282\u001b[0m \u001b[32m━━━━━━━━━━━━━━━━━━━━\u001b[0m\u001b[37m\u001b[0m \u001b[1m1s\u001b[0m 4ms/step - accuracy: 0.8184 - auc: 0.8711 - loss: 0.3892 - recall: 0.5275 - val_accuracy: 0.7720 - val_auc: 0.8258 - val_loss: 0.4635 - val_recall: 0.2709\n",
      "Epoch 16/20\n",
      "\u001b[1m282/282\u001b[0m \u001b[32m━━━━━━━━━━━━━━━━━━━━\u001b[0m\u001b[37m\u001b[0m \u001b[1m0s\u001b[0m 6ms/step - accuracy: 0.8134 - auc: 0.8794 - loss: 0.3737 - recall: 0.4944\n",
      "Epoch 16: val_accuracy did not improve from 0.81366\n",
      "\u001b[1m282/282\u001b[0m \u001b[32m━━━━━━━━━━━━━━━━━━━━\u001b[0m\u001b[37m\u001b[0m \u001b[1m2s\u001b[0m 7ms/step - accuracy: 0.8134 - auc: 0.8793 - loss: 0.3737 - recall: 0.4946 - val_accuracy: 0.7870 - val_auc: 0.8296 - val_loss: 0.4436 - val_recall: 0.3712\n",
      "Epoch 17/20\n",
      "\u001b[1m275/282\u001b[0m \u001b[32m━━━━━━━━━━━━━━━━━━━\u001b[0m\u001b[37m━\u001b[0m \u001b[1m0s\u001b[0m 4ms/step - accuracy: 0.8208 - auc: 0.8841 - loss: 0.3680 - recall: 0.5189\n",
      "Epoch 17: val_accuracy did not improve from 0.81366\n",
      "\u001b[1m282/282\u001b[0m \u001b[32m━━━━━━━━━━━━━━━━━━━━\u001b[0m\u001b[37m\u001b[0m \u001b[1m1s\u001b[0m 5ms/step - accuracy: 0.8207 - auc: 0.8839 - loss: 0.3682 - recall: 0.5190 - val_accuracy: 0.8012 - val_auc: 0.8262 - val_loss: 0.4696 - val_recall: 0.5017\n",
      "Epoch 18/20\n",
      "\u001b[1m282/282\u001b[0m \u001b[32m━━━━━━━━━━━━━━━━━━━━\u001b[0m\u001b[37m\u001b[0m \u001b[1m0s\u001b[0m 5ms/step - accuracy: 0.8146 - auc: 0.8842 - loss: 0.3678 - recall: 0.5472\n",
      "Epoch 18: val_accuracy did not improve from 0.81366\n",
      "\u001b[1m282/282\u001b[0m \u001b[32m━━━━━━━━━━━━━━━━━━━━\u001b[0m\u001b[37m\u001b[0m \u001b[1m2s\u001b[0m 6ms/step - accuracy: 0.8146 - auc: 0.8842 - loss: 0.3678 - recall: 0.5472 - val_accuracy: 0.8057 - val_auc: 0.8265 - val_loss: 0.4616 - val_recall: 0.5485\n",
      "Epoch 19/20\n",
      "\u001b[1m275/282\u001b[0m \u001b[32m━━━━━━━━━━━━━━━━━━━\u001b[0m\u001b[37m━\u001b[0m \u001b[1m0s\u001b[0m 5ms/step - accuracy: 0.8314 - auc: 0.8959 - loss: 0.3485 - recall: 0.5911\n",
      "Epoch 19: val_accuracy did not improve from 0.81366\n",
      "\u001b[1m282/282\u001b[0m \u001b[32m━━━━━━━━━━━━━━━━━━━━\u001b[0m\u001b[37m\u001b[0m \u001b[1m1s\u001b[0m 5ms/step - accuracy: 0.8311 - auc: 0.8956 - loss: 0.3489 - recall: 0.5903 - val_accuracy: 0.8004 - val_auc: 0.8253 - val_loss: 0.4858 - val_recall: 0.4281\n",
      "Epoch 20/20\n",
      "\u001b[1m278/282\u001b[0m \u001b[32m━━━━━━━━━━━━━━━━━━━\u001b[0m\u001b[37m━\u001b[0m \u001b[1m0s\u001b[0m 5ms/step - accuracy: 0.8393 - auc: 0.8938 - loss: 0.3492 - recall: 0.5981\n",
      "Epoch 20: val_accuracy did not improve from 0.81366\n",
      "\u001b[1m282/282\u001b[0m \u001b[32m━━━━━━━━━━━━━━━━━━━━\u001b[0m\u001b[37m\u001b[0m \u001b[1m2s\u001b[0m 6ms/step - accuracy: 0.8391 - auc: 0.8937 - loss: 0.3494 - recall: 0.5977 - val_accuracy: 0.7986 - val_auc: 0.8222 - val_loss: 0.4936 - val_recall: 0.4883\n"
     ]
    }
   ],
   "source": [
    "history = model.fit(\n",
    "    X_train_dense, y_train_vector,\n",
    "    validation_data=(X_val_dense, y_val_vector),\n",
    "    epochs=20,\n",
    "    batch_size=16,\n",
    "    callbacks=[model_ckpt],\n",
    "    verbose=1\n",
    ")"
   ]
  },
  {
   "cell_type": "code",
   "execution_count": 39,
   "id": "0c10f9ef",
   "metadata": {},
   "outputs": [
    {
     "name": "stdout",
     "output_type": "stream",
     "text": [
      "\u001b[1m45/45\u001b[0m \u001b[32m━━━━━━━━━━━━━━━━━━━━\u001b[0m\u001b[37m\u001b[0m \u001b[1m0s\u001b[0m 2ms/step\n",
      "\n",
      "Classification Report :\n",
      "              precision    recall  f1-score   support\n",
      "\n",
      "           0       0.73      1.00      0.85      1035\n",
      "           1       0.00      0.00      0.00       374\n",
      "\n",
      "    accuracy                           0.73      1409\n",
      "   macro avg       0.37      0.50      0.42      1409\n",
      "weighted avg       0.54      0.73      0.62      1409\n",
      "\n"
     ]
    },
    {
     "name": "stderr",
     "output_type": "stream",
     "text": [
      "/home/utilisateur/Documents/deeplearning_brief/DeepLearning-Project/.venv/lib/python3.12/site-packages/sklearn/metrics/_classification.py:1565: UndefinedMetricWarning: Precision is ill-defined and being set to 0.0 in labels with no predicted samples. Use `zero_division` parameter to control this behavior.\n",
      "  _warn_prf(average, modifier, f\"{metric.capitalize()} is\", len(result))\n",
      "/home/utilisateur/Documents/deeplearning_brief/DeepLearning-Project/.venv/lib/python3.12/site-packages/sklearn/metrics/_classification.py:1565: UndefinedMetricWarning: Precision is ill-defined and being set to 0.0 in labels with no predicted samples. Use `zero_division` parameter to control this behavior.\n",
      "  _warn_prf(average, modifier, f\"{metric.capitalize()} is\", len(result))\n",
      "/home/utilisateur/Documents/deeplearning_brief/DeepLearning-Project/.venv/lib/python3.12/site-packages/sklearn/metrics/_classification.py:1565: UndefinedMetricWarning: Precision is ill-defined and being set to 0.0 in labels with no predicted samples. Use `zero_division` parameter to control this behavior.\n",
      "  _warn_prf(average, modifier, f\"{metric.capitalize()} is\", len(result))\n"
     ]
    }
   ],
   "source": [
    "y_pred_probs = model.predict(X_test_dense)\n",
    "y_pred = np.argmax(y_pred_probs, axis=1)\n",
    "print(\"\\nClassification Report :\")\n",
    "print(classification_report(y_test_vector, y_pred))"
   ]
  },
  {
   "cell_type": "code",
   "execution_count": 40,
   "id": "c6f14ffb",
   "metadata": {},
   "outputs": [
    {
     "name": "stdout",
     "output_type": "stream",
     "text": [
      "Matrice de Confusion :\n",
      "[[1035    0]\n",
      " [ 374    0]]\n"
     ]
    }
   ],
   "source": [
    "print(\"Matrice de Confusion :\")\n",
    "cm = confusion_matrix(y_test_vector, y_pred)\n",
    "print(cm)"
   ]
  },
  {
   "cell_type": "code",
   "execution_count": 41,
   "id": "7abbb99e",
   "metadata": {},
   "outputs": [
    {
     "name": "stdout",
     "output_type": "stream",
     "text": [
      "\u001b[1m45/45\u001b[0m \u001b[32m━━━━━━━━━━━━━━━━━━━━\u001b[0m\u001b[37m\u001b[0m \u001b[1m0s\u001b[0m 680us/step\n",
      "\n",
      "Classification Report :\n",
      "              precision    recall  f1-score   support\n",
      "\n",
      "           0       0.83      0.89      0.86      1035\n",
      "           1       0.63      0.51      0.56       374\n",
      "\n",
      "    accuracy                           0.79      1409\n",
      "   macro avg       0.73      0.70      0.71      1409\n",
      "weighted avg       0.78      0.79      0.78      1409\n",
      "\n"
     ]
    },
    {
     "data": {
      "text/plain": [
       "((1409,), (1409, 1))"
      ]
     },
     "execution_count": 41,
     "metadata": {},
     "output_type": "execute_result"
    }
   ],
   "source": [
    "y_pred_probs = model.predict(X_test_dense)\n",
    "\n",
    "probs = y_pred_probs.ravel()\n",
    "\n",
    "y_pred = (probs >= 0.5)\n",
    "print(\"\\nClassification Report :\")\n",
    "print(classification_report(y_test_vector, y_pred))\n",
    "y_test_vector.shape, y_pred_probs.shape"
   ]
  },
  {
   "cell_type": "code",
   "execution_count": 42,
   "id": "d64f9031",
   "metadata": {},
   "outputs": [
    {
     "name": "stdout",
     "output_type": "stream",
     "text": [
      "The tensorboard extension is already loaded. To reload it, use:\n",
      "  %reload_ext tensorboard\n"
     ]
    }
   ],
   "source": [
    "%load_ext tensorboard"
   ]
  },
  {
   "cell_type": "code",
   "execution_count": 43,
   "id": "d309e702",
   "metadata": {},
   "outputs": [],
   "source": [
    "early_stop = tf.keras.callbacks.EarlyStopping(\n",
    "    monitor='val_loss',    # surveille la perte de validation\n",
    "    patience=3,            # tolère 3 époques sans amélioration\n",
    "    restore_best_weights=True\n",
    ")"
   ]
  },
  {
   "cell_type": "code",
   "execution_count": 44,
   "id": "ebdda1b3",
   "metadata": {},
   "outputs": [],
   "source": [
    "log_dir = os.path.join(\n",
    "    \"logs\", \"fit\", datetime.datetime.now().strftime(\"%Y%m%d-%H%M%S\")\n",
    ")\n",
    "tensorboard_cb = tf.keras.callbacks.TensorBoard(\n",
    "    log_dir=log_dir,\n",
    "    histogram_freq=1,       # enregistre les histogrammes de poids chaque époque\n",
    "    write_graph=True,       # sauvegarde le graph du modèle\n",
    "    write_images=True\n",
    ")"
   ]
  },
  {
   "cell_type": "code",
   "execution_count": 45,
   "id": "cf717bed",
   "metadata": {},
   "outputs": [
    {
     "name": "stdout",
     "output_type": "stream",
     "text": [
      "Epoch 1/20\n",
      "\u001b[1m220/226\u001b[0m \u001b[32m━━━━━━━━━━━━━━━━━━━\u001b[0m\u001b[37m━\u001b[0m \u001b[1m0s\u001b[0m 5ms/step - accuracy: 0.8321 - auc: 0.8932 - loss: 0.3486 - recall: 0.5682\n",
      "Epoch 1: val_accuracy improved from 0.81366 to 0.81486, saving model to checkpoints/churn_models.keras\n",
      "\u001b[1m226/226\u001b[0m \u001b[32m━━━━━━━━━━━━━━━━━━━━\u001b[0m\u001b[37m\u001b[0m \u001b[1m1s\u001b[0m 7ms/step - accuracy: 0.8321 - auc: 0.8932 - loss: 0.3486 - recall: 0.5686 - val_accuracy: 0.8149 - val_auc: 0.8888 - val_loss: 0.3669 - val_recall: 0.6064\n",
      "Epoch 2/20\n",
      "\u001b[1m220/226\u001b[0m \u001b[32m━━━━━━━━━━━━━━━━━━━\u001b[0m\u001b[37m━\u001b[0m \u001b[1m0s\u001b[0m 4ms/step - accuracy: 0.8340 - auc: 0.8982 - loss: 0.3408 - recall: 0.5724\n",
      "Epoch 2: val_accuracy improved from 0.81486 to 0.82373, saving model to checkpoints/churn_models.keras\n",
      "\u001b[1m226/226\u001b[0m \u001b[32m━━━━━━━━━━━━━━━━━━━━\u001b[0m\u001b[37m\u001b[0m \u001b[1m1s\u001b[0m 5ms/step - accuracy: 0.8338 - auc: 0.8981 - loss: 0.3410 - recall: 0.5726 - val_accuracy: 0.8237 - val_auc: 0.8899 - val_loss: 0.3619 - val_recall: 0.6024\n",
      "Epoch 3/20\n",
      "\u001b[1m223/226\u001b[0m \u001b[32m━━━━━━━━━━━━━━━━━━━\u001b[0m\u001b[37m━\u001b[0m \u001b[1m0s\u001b[0m 5ms/step - accuracy: 0.8447 - auc: 0.9039 - loss: 0.3293 - recall: 0.5914\n",
      "Epoch 3: val_accuracy did not improve from 0.82373\n",
      "\u001b[1m226/226\u001b[0m \u001b[32m━━━━━━━━━━━━━━━━━━━━\u001b[0m\u001b[37m\u001b[0m \u001b[1m1s\u001b[0m 6ms/step - accuracy: 0.8445 - auc: 0.9038 - loss: 0.3295 - recall: 0.5911 - val_accuracy: 0.8071 - val_auc: 0.8731 - val_loss: 0.3910 - val_recall: 0.5100\n",
      "Epoch 4/20\n",
      "\u001b[1m224/226\u001b[0m \u001b[32m━━━━━━━━━━━━━━━━━━━\u001b[0m\u001b[37m━\u001b[0m \u001b[1m0s\u001b[0m 6ms/step - accuracy: 0.8432 - auc: 0.9096 - loss: 0.3290 - recall: 0.6220\n",
      "Epoch 4: val_accuracy did not improve from 0.82373\n",
      "\u001b[1m226/226\u001b[0m \u001b[32m━━━━━━━━━━━━━━━━━━━━\u001b[0m\u001b[37m\u001b[0m \u001b[1m2s\u001b[0m 7ms/step - accuracy: 0.8431 - auc: 0.9094 - loss: 0.3292 - recall: 0.6218 - val_accuracy: 0.8082 - val_auc: 0.8835 - val_loss: 0.3854 - val_recall: 0.4418\n",
      "Epoch 5/20\n",
      "\u001b[1m223/226\u001b[0m \u001b[32m━━━━━━━━━━━━━━━━━━━\u001b[0m\u001b[37m━\u001b[0m \u001b[1m0s\u001b[0m 6ms/step - accuracy: 0.8424 - auc: 0.9114 - loss: 0.3218 - recall: 0.5923\n",
      "Epoch 5: val_accuracy did not improve from 0.82373\n",
      "\u001b[1m226/226\u001b[0m \u001b[32m━━━━━━━━━━━━━━━━━━━━\u001b[0m\u001b[37m\u001b[0m \u001b[1m2s\u001b[0m 8ms/step - accuracy: 0.8423 - auc: 0.9112 - loss: 0.3221 - recall: 0.5922 - val_accuracy: 0.8049 - val_auc: 0.8648 - val_loss: 0.4102 - val_recall: 0.5863\n"
     ]
    }
   ],
   "source": [
    "history = model.fit(\n",
    "    X_train_dense, y_train_vector,\n",
    "    validation_split=0.2,\n",
    "    epochs=20,\n",
    "    batch_size=16,\n",
    "    verbose=1,\n",
    "    callbacks=[early_stop, model_ckpt, tensorboard_cb]\n",
    ")"
   ]
  },
  {
   "cell_type": "code",
   "execution_count": 46,
   "id": "4ef56a62",
   "metadata": {},
   "outputs": [
    {
     "name": "stdout",
     "output_type": "stream",
     "text": [
      "Epoch 1/20\n",
      "\u001b[1m279/282\u001b[0m \u001b[32m━━━━━━━━━━━━━━━━━━━\u001b[0m\u001b[37m━\u001b[0m \u001b[1m0s\u001b[0m 6ms/step - accuracy: 0.8337 - auc: 0.9002 - loss: 0.3409 - recall: 0.6008\n",
      "Epoch 1: val_accuracy did not improve from 0.82373\n",
      "\u001b[1m282/282\u001b[0m \u001b[32m━━━━━━━━━━━━━━━━━━━━\u001b[0m\u001b[37m\u001b[0m \u001b[1m2s\u001b[0m 7ms/step - accuracy: 0.8338 - auc: 0.9002 - loss: 0.3410 - recall: 0.6008 - val_accuracy: 0.8004 - val_auc: 0.8188 - val_loss: 0.5066 - val_recall: 0.4582\n",
      "Epoch 2/20\n",
      "\u001b[1m276/282\u001b[0m \u001b[32m━━━━━━━━━━━━━━━━━━━\u001b[0m\u001b[37m━\u001b[0m \u001b[1m0s\u001b[0m 6ms/step - accuracy: 0.8480 - auc: 0.9066 - loss: 0.3308 - recall: 0.6110\n",
      "Epoch 2: val_accuracy did not improve from 0.82373\n",
      "\u001b[1m282/282\u001b[0m \u001b[32m━━━━━━━━━━━━━━━━━━━━\u001b[0m\u001b[37m\u001b[0m \u001b[1m2s\u001b[0m 7ms/step - accuracy: 0.8477 - auc: 0.9064 - loss: 0.3311 - recall: 0.6106 - val_accuracy: 0.7879 - val_auc: 0.8128 - val_loss: 0.5025 - val_recall: 0.4649\n",
      "Epoch 3/20\n",
      "\u001b[1m274/282\u001b[0m \u001b[32m━━━━━━━━━━━━━━━━━━━\u001b[0m\u001b[37m━\u001b[0m \u001b[1m0s\u001b[0m 5ms/step - accuracy: 0.8442 - auc: 0.9079 - loss: 0.3273 - recall: 0.6117\n",
      "Epoch 3: val_accuracy did not improve from 0.82373\n",
      "\u001b[1m282/282\u001b[0m \u001b[32m━━━━━━━━━━━━━━━━━━━━\u001b[0m\u001b[37m\u001b[0m \u001b[1m2s\u001b[0m 5ms/step - accuracy: 0.8438 - auc: 0.9076 - loss: 0.3278 - recall: 0.6112 - val_accuracy: 0.7897 - val_auc: 0.8173 - val_loss: 0.5129 - val_recall: 0.4448\n",
      "Epoch 4/20\n",
      "\u001b[1m265/282\u001b[0m \u001b[32m━━━━━━━━━━━━━━━━━━\u001b[0m\u001b[37m━━\u001b[0m \u001b[1m0s\u001b[0m 3ms/step - accuracy: 0.8475 - auc: 0.9075 - loss: 0.3277 - recall: 0.6116\n",
      "Epoch 4: val_accuracy did not improve from 0.82373\n",
      "\u001b[1m282/282\u001b[0m \u001b[32m━━━━━━━━━━━━━━━━━━━━\u001b[0m\u001b[37m\u001b[0m \u001b[1m1s\u001b[0m 4ms/step - accuracy: 0.8467 - auc: 0.9069 - loss: 0.3286 - recall: 0.6095 - val_accuracy: 0.7977 - val_auc: 0.8139 - val_loss: 0.5371 - val_recall: 0.4716\n",
      "Epoch 5/20\n",
      "\u001b[1m277/282\u001b[0m \u001b[32m━━━━━━━━━━━━━━━━━━━\u001b[0m\u001b[37m━\u001b[0m \u001b[1m0s\u001b[0m 6ms/step - accuracy: 0.8379 - auc: 0.9031 - loss: 0.3370 - recall: 0.6185\n",
      "Epoch 5: val_accuracy did not improve from 0.82373\n",
      "\u001b[1m282/282\u001b[0m \u001b[32m━━━━━━━━━━━━━━━━━━━━\u001b[0m\u001b[37m\u001b[0m \u001b[1m2s\u001b[0m 7ms/step - accuracy: 0.8379 - auc: 0.9030 - loss: 0.3371 - recall: 0.6179 - val_accuracy: 0.7870 - val_auc: 0.8199 - val_loss: 0.5531 - val_recall: 0.4883\n",
      "Epoch 6/20\n",
      "\u001b[1m275/282\u001b[0m \u001b[32m━━━━━━━━━━━━━━━━━━━\u001b[0m\u001b[37m━\u001b[0m \u001b[1m0s\u001b[0m 5ms/step - accuracy: 0.8369 - auc: 0.9089 - loss: 0.3356 - recall: 0.6058\n",
      "Epoch 6: val_accuracy did not improve from 0.82373\n",
      "\u001b[1m282/282\u001b[0m \u001b[32m━━━━━━━━━━━━━━━━━━━━\u001b[0m\u001b[37m\u001b[0m \u001b[1m2s\u001b[0m 7ms/step - accuracy: 0.8369 - auc: 0.9088 - loss: 0.3356 - recall: 0.6060 - val_accuracy: 0.7941 - val_auc: 0.8234 - val_loss: 0.5346 - val_recall: 0.4950\n",
      "Epoch 7/20\n",
      "\u001b[1m281/282\u001b[0m \u001b[32m━━━━━━━━━━━━━━━━━━━\u001b[0m\u001b[37m━\u001b[0m \u001b[1m0s\u001b[0m 7ms/step - accuracy: 0.8445 - auc: 0.9082 - loss: 0.3298 - recall: 0.6021\n",
      "Epoch 7: val_accuracy did not improve from 0.82373\n",
      "\u001b[1m282/282\u001b[0m \u001b[32m━━━━━━━━━━━━━━━━━━━━\u001b[0m\u001b[37m\u001b[0m \u001b[1m3s\u001b[0m 9ms/step - accuracy: 0.8444 - auc: 0.9082 - loss: 0.3299 - recall: 0.6021 - val_accuracy: 0.7862 - val_auc: 0.8195 - val_loss: 0.5565 - val_recall: 0.5017\n",
      "Epoch 8/20\n",
      "\u001b[1m276/282\u001b[0m \u001b[32m━━━━━━━━━━━━━━━━━━━\u001b[0m\u001b[37m━\u001b[0m \u001b[1m0s\u001b[0m 8ms/step - accuracy: 0.8465 - auc: 0.9121 - loss: 0.3178 - recall: 0.6002\n",
      "Epoch 8: val_accuracy did not improve from 0.82373\n",
      "\u001b[1m282/282\u001b[0m \u001b[32m━━━━━━━━━━━━━━━━━━━━\u001b[0m\u001b[37m\u001b[0m \u001b[1m3s\u001b[0m 9ms/step - accuracy: 0.8464 - auc: 0.9120 - loss: 0.3180 - recall: 0.6004 - val_accuracy: 0.7853 - val_auc: 0.8072 - val_loss: 0.5735 - val_recall: 0.4682\n",
      "Epoch 9/20\n",
      "\u001b[1m279/282\u001b[0m \u001b[32m━━━━━━━━━━━━━━━━━━━\u001b[0m\u001b[37m━\u001b[0m \u001b[1m0s\u001b[0m 5ms/step - accuracy: 0.8549 - auc: 0.9184 - loss: 0.3113 - recall: 0.6541\n",
      "Epoch 9: val_accuracy did not improve from 0.82373\n",
      "\u001b[1m282/282\u001b[0m \u001b[32m━━━━━━━━━━━━━━━━━━━━\u001b[0m\u001b[37m\u001b[0m \u001b[1m2s\u001b[0m 6ms/step - accuracy: 0.8547 - auc: 0.9183 - loss: 0.3115 - recall: 0.6537 - val_accuracy: 0.7817 - val_auc: 0.8070 - val_loss: 0.6304 - val_recall: 0.4415\n",
      "Epoch 10/20\n",
      "\u001b[1m282/282\u001b[0m \u001b[32m━━━━━━━━━━━━━━━━━━━━\u001b[0m\u001b[37m\u001b[0m \u001b[1m0s\u001b[0m 6ms/step - accuracy: 0.8482 - auc: 0.9127 - loss: 0.3233 - recall: 0.6264\n",
      "Epoch 10: val_accuracy did not improve from 0.82373\n",
      "\u001b[1m282/282\u001b[0m \u001b[32m━━━━━━━━━━━━━━━━━━━━\u001b[0m\u001b[37m\u001b[0m \u001b[1m2s\u001b[0m 7ms/step - accuracy: 0.8482 - auc: 0.9127 - loss: 0.3232 - recall: 0.6265 - val_accuracy: 0.7711 - val_auc: 0.8086 - val_loss: 0.6472 - val_recall: 0.5518\n",
      "Epoch 11/20\n",
      "\u001b[1m282/282\u001b[0m \u001b[32m━━━━━━━━━━━━━━━━━━━━\u001b[0m\u001b[37m\u001b[0m \u001b[1m0s\u001b[0m 5ms/step - accuracy: 0.8515 - auc: 0.9176 - loss: 0.3085 - recall: 0.6697\n",
      "Epoch 11: val_accuracy did not improve from 0.82373\n",
      "\u001b[1m282/282\u001b[0m \u001b[32m━━━━━━━━━━━━━━━━━━━━\u001b[0m\u001b[37m\u001b[0m \u001b[1m2s\u001b[0m 7ms/step - accuracy: 0.8515 - auc: 0.9176 - loss: 0.3086 - recall: 0.6697 - val_accuracy: 0.7782 - val_auc: 0.7995 - val_loss: 0.5726 - val_recall: 0.4849\n",
      "Epoch 12/20\n",
      "\u001b[1m278/282\u001b[0m \u001b[32m━━━━━━━━━━━━━━━━━━━\u001b[0m\u001b[37m━\u001b[0m \u001b[1m0s\u001b[0m 7ms/step - accuracy: 0.8566 - auc: 0.9187 - loss: 0.3146 - recall: 0.6549\n",
      "Epoch 12: val_accuracy did not improve from 0.82373\n",
      "\u001b[1m282/282\u001b[0m \u001b[32m━━━━━━━━━━━━━━━━━━━━\u001b[0m\u001b[37m\u001b[0m \u001b[1m2s\u001b[0m 8ms/step - accuracy: 0.8564 - auc: 0.9187 - loss: 0.3147 - recall: 0.6545 - val_accuracy: 0.7711 - val_auc: 0.8048 - val_loss: 0.5764 - val_recall: 0.4783\n",
      "Epoch 13/20\n",
      "\u001b[1m281/282\u001b[0m \u001b[32m━━━━━━━━━━━━━━━━━━━\u001b[0m\u001b[37m━\u001b[0m \u001b[1m0s\u001b[0m 7ms/step - accuracy: 0.8601 - auc: 0.9218 - loss: 0.3041 - recall: 0.6475\n",
      "Epoch 13: val_accuracy did not improve from 0.82373\n",
      "\u001b[1m282/282\u001b[0m \u001b[32m━━━━━━━━━━━━━━━━━━━━\u001b[0m\u001b[37m\u001b[0m \u001b[1m3s\u001b[0m 9ms/step - accuracy: 0.8601 - auc: 0.9218 - loss: 0.3041 - recall: 0.6476 - val_accuracy: 0.7693 - val_auc: 0.7973 - val_loss: 0.6459 - val_recall: 0.4816\n",
      "Epoch 14/20\n",
      "\u001b[1m276/282\u001b[0m \u001b[32m━━━━━━━━━━━━━━━━━━━\u001b[0m\u001b[37m━\u001b[0m \u001b[1m0s\u001b[0m 6ms/step - accuracy: 0.8632 - auc: 0.9273 - loss: 0.2929 - recall: 0.6684\n",
      "Epoch 14: val_accuracy did not improve from 0.82373\n",
      "\u001b[1m282/282\u001b[0m \u001b[32m━━━━━━━━━━━━━━━━━━━━\u001b[0m\u001b[37m\u001b[0m \u001b[1m2s\u001b[0m 6ms/step - accuracy: 0.8631 - auc: 0.9271 - loss: 0.2934 - recall: 0.6681 - val_accuracy: 0.7720 - val_auc: 0.8074 - val_loss: 0.6150 - val_recall: 0.4783\n",
      "Epoch 15/20\n",
      "\u001b[1m277/282\u001b[0m \u001b[32m━━━━━━━━━━━━━━━━━━━\u001b[0m\u001b[37m━\u001b[0m \u001b[1m0s\u001b[0m 5ms/step - accuracy: 0.8551 - auc: 0.9240 - loss: 0.3013 - recall: 0.6649\n",
      "Epoch 15: val_accuracy did not improve from 0.82373\n",
      "\u001b[1m282/282\u001b[0m \u001b[32m━━━━━━━━━━━━━━━━━━━━\u001b[0m\u001b[37m\u001b[0m \u001b[1m2s\u001b[0m 7ms/step - accuracy: 0.8551 - auc: 0.9240 - loss: 0.3013 - recall: 0.6648 - val_accuracy: 0.7657 - val_auc: 0.8001 - val_loss: 0.6371 - val_recall: 0.4849\n",
      "Epoch 16/20\n",
      "\u001b[1m280/282\u001b[0m \u001b[32m━━━━━━━━━━━━━━━━━━━\u001b[0m\u001b[37m━\u001b[0m \u001b[1m0s\u001b[0m 6ms/step - accuracy: 0.8582 - auc: 0.9228 - loss: 0.3017 - recall: 0.6571\n",
      "Epoch 16: val_accuracy did not improve from 0.82373\n",
      "\u001b[1m282/282\u001b[0m \u001b[32m━━━━━━━━━━━━━━━━━━━━\u001b[0m\u001b[37m\u001b[0m \u001b[1m2s\u001b[0m 7ms/step - accuracy: 0.8582 - auc: 0.9229 - loss: 0.3016 - recall: 0.6573 - val_accuracy: 0.7711 - val_auc: 0.7937 - val_loss: 0.6702 - val_recall: 0.5017\n",
      "Epoch 17/20\n",
      "\u001b[1m279/282\u001b[0m \u001b[32m━━━━━━━━━━━━━━━━━━━\u001b[0m\u001b[37m━\u001b[0m \u001b[1m0s\u001b[0m 5ms/step - accuracy: 0.8596 - auc: 0.9306 - loss: 0.2927 - recall: 0.6684\n",
      "Epoch 17: val_accuracy did not improve from 0.82373\n",
      "\u001b[1m282/282\u001b[0m \u001b[32m━━━━━━━━━━━━━━━━━━━━\u001b[0m\u001b[37m\u001b[0m \u001b[1m2s\u001b[0m 6ms/step - accuracy: 0.8597 - auc: 0.9306 - loss: 0.2927 - recall: 0.6684 - val_accuracy: 0.7702 - val_auc: 0.7895 - val_loss: 0.6552 - val_recall: 0.4448\n",
      "Epoch 18/20\n",
      "\u001b[1m272/282\u001b[0m \u001b[32m━━━━━━━━━━━━━━━━━━━\u001b[0m\u001b[37m━\u001b[0m \u001b[1m0s\u001b[0m 6ms/step - accuracy: 0.8632 - auc: 0.9293 - loss: 0.2911 - recall: 0.6809\n",
      "Epoch 18: val_accuracy did not improve from 0.82373\n",
      "\u001b[1m282/282\u001b[0m \u001b[32m━━━━━━━━━━━━━━━━━━━━\u001b[0m\u001b[37m\u001b[0m \u001b[1m2s\u001b[0m 7ms/step - accuracy: 0.8631 - auc: 0.9293 - loss: 0.2913 - recall: 0.6808 - val_accuracy: 0.7773 - val_auc: 0.7994 - val_loss: 0.7008 - val_recall: 0.5084\n",
      "Epoch 19/20\n",
      "\u001b[1m275/282\u001b[0m \u001b[32m━━━━━━━━━━━━━━━━━━━\u001b[0m\u001b[37m━\u001b[0m \u001b[1m0s\u001b[0m 3ms/step - accuracy: 0.8610 - auc: 0.9293 - loss: 0.2914 - recall: 0.6691\n",
      "Epoch 19: val_accuracy did not improve from 0.82373\n",
      "\u001b[1m282/282\u001b[0m \u001b[32m━━━━━━━━━━━━━━━━━━━━\u001b[0m\u001b[37m\u001b[0m \u001b[1m1s\u001b[0m 5ms/step - accuracy: 0.8610 - auc: 0.9292 - loss: 0.2915 - recall: 0.6691 - val_accuracy: 0.7587 - val_auc: 0.7863 - val_loss: 0.8216 - val_recall: 0.4716\n",
      "Epoch 20/20\n",
      "\u001b[1m265/282\u001b[0m \u001b[32m━━━━━━━━━━━━━━━━━━\u001b[0m\u001b[37m━━\u001b[0m \u001b[1m0s\u001b[0m 4ms/step - accuracy: 0.8682 - auc: 0.9270 - loss: 0.2980 - recall: 0.6913\n",
      "Epoch 20: val_accuracy did not improve from 0.82373\n",
      "\u001b[1m282/282\u001b[0m \u001b[32m━━━━━━━━━━━━━━━━━━━━\u001b[0m\u001b[37m\u001b[0m \u001b[1m2s\u001b[0m 6ms/step - accuracy: 0.8680 - auc: 0.9270 - loss: 0.2979 - recall: 0.6908 - val_accuracy: 0.7702 - val_auc: 0.7840 - val_loss: 0.7632 - val_recall: 0.4314\n"
     ]
    }
   ],
   "source": [
    "history = model.fit(\n",
    "    X_train_dense, y_train_vector,\n",
    "    validation_data=(X_val_dense, y_val_vector),\n",
    "    epochs=20,\n",
    "    batch_size=16,\n",
    "    callbacks=[model_ckpt,tensorboard_cb],\n",
    "    verbose=1\n",
    ")"
   ]
  },
  {
   "cell_type": "code",
   "execution_count": 47,
   "id": "fa652db9",
   "metadata": {},
   "outputs": [
    {
     "data": {
      "text/plain": [
       "Reusing TensorBoard on port 6006 (pid 105293), started 18:31:04 ago. (Use '!kill 105293' to kill it.)"
      ]
     },
     "metadata": {},
     "output_type": "display_data"
    },
    {
     "data": {
      "text/html": [
       "\n",
       "      <iframe id=\"tensorboard-frame-cb07f04e3c36d814\" width=\"100%\" height=\"800\" frameborder=\"0\">\n",
       "      </iframe>\n",
       "      <script>\n",
       "        (function() {\n",
       "          const frame = document.getElementById(\"tensorboard-frame-cb07f04e3c36d814\");\n",
       "          const url = new URL(\"http://localhost\");\n",
       "          const port = 6006;\n",
       "          if (port) {\n",
       "            url.port = port;\n",
       "          }\n",
       "          frame.src = url;\n",
       "        })();\n",
       "      </script>\n",
       "    "
      ],
      "text/plain": [
       "<IPython.core.display.HTML object>"
      ]
     },
     "metadata": {},
     "output_type": "display_data"
    }
   ],
   "source": [
    "%tensorboard --logdir logs/fit\n",
    "# If it does not appear in the notebook, "
   ]
  },
  {
   "cell_type": "code",
   "execution_count": 48,
   "id": "bbe1886e",
   "metadata": {},
   "outputs": [
    {
     "name": "stdout",
     "output_type": "stream",
     "text": [
      "[0 0 0 ... 0 0 0]\n"
     ]
    }
   ],
   "source": [
    "print(y_train_vector)"
   ]
  },
  {
   "cell_type": "code",
   "execution_count": 49,
   "id": "802884df",
   "metadata": {},
   "outputs": [
    {
     "name": "stdout",
     "output_type": "stream",
     "text": [
      "1196 299 374\n"
     ]
    }
   ],
   "source": [
    "x_train=0\n",
    "for i in y_train_vector:\n",
    "    if i == 1:\n",
    "        x_train+=1\n",
    "x_val=0\n",
    "for i in y_val_vector:\n",
    "    if i == 1:\n",
    "        x_val+=1\n",
    "\n",
    "x_test=0\n",
    "for i in y_test_vector:\n",
    "    if i == 1:\n",
    "        x_test+=1\n",
    "\n",
    "print(x_train, x_val, x_test)\n"
   ]
  },
  {
   "cell_type": "code",
   "execution_count": 50,
   "id": "1c46986e",
   "metadata": {},
   "outputs": [
    {
     "data": {
      "text/plain": [
       "(1127,)"
      ]
     },
     "execution_count": 50,
     "metadata": {},
     "output_type": "execute_result"
    }
   ],
   "source": [
    "y_val_vector.shape"
   ]
  },
  {
   "cell_type": "code",
   "execution_count": null,
   "id": "26bc8ea2",
   "metadata": {},
   "outputs": [],
   "source": []
  }
 ],
 "metadata": {
  "kernelspec": {
   "display_name": ".venv",
   "language": "python",
   "name": "python3"
  },
  "language_info": {
   "codemirror_mode": {
    "name": "ipython",
    "version": 3
   },
   "file_extension": ".py",
   "mimetype": "text/x-python",
   "name": "python",
   "nbconvert_exporter": "python",
   "pygments_lexer": "ipython3",
   "version": "3.12.3"
  }
 },
 "nbformat": 4,
 "nbformat_minor": 5
}
