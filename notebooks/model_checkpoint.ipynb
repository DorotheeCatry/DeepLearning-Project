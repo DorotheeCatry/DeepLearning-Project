{
 "cells": [
  {
   "cell_type": "code",
   "execution_count": 2,
   "id": "99350c16",
   "metadata": {},
   "outputs": [
    {
     "name": "stdout",
     "output_type": "stream",
     "text": [
      "(4507, 20) (1409, 20) (1127, 20) (1409, 20) (1127,) (1409,)\n"
     ]
    },
    {
     "name": "stderr",
     "output_type": "stream",
     "text": [
      "2025-05-21 09:18:52.479431: I external/local_xla/xla/tsl/cuda/cudart_stub.cc:32] Could not find cuda drivers on your machine, GPU will not be used.\n",
      "2025-05-21 09:18:52.482111: I external/local_xla/xla/tsl/cuda/cudart_stub.cc:32] Could not find cuda drivers on your machine, GPU will not be used.\n",
      "2025-05-21 09:18:52.491107: E external/local_xla/xla/stream_executor/cuda/cuda_fft.cc:467] Unable to register cuFFT factory: Attempting to register factory for plugin cuFFT when one has already been registered\n",
      "WARNING: All log messages before absl::InitializeLog() is called are written to STDERR\n",
      "E0000 00:00:1747811932.506736  114432 cuda_dnn.cc:8579] Unable to register cuDNN factory: Attempting to register factory for plugin cuDNN when one has already been registered\n",
      "E0000 00:00:1747811932.511357  114432 cuda_blas.cc:1407] Unable to register cuBLAS factory: Attempting to register factory for plugin cuBLAS when one has already been registered\n",
      "W0000 00:00:1747811932.521841  114432 computation_placer.cc:177] computation placer already registered. Please check linkage and avoid linking the same target more than once.\n",
      "W0000 00:00:1747811932.521855  114432 computation_placer.cc:177] computation placer already registered. Please check linkage and avoid linking the same target more than once.\n",
      "W0000 00:00:1747811932.521856  114432 computation_placer.cc:177] computation placer already registered. Please check linkage and avoid linking the same target more than once.\n",
      "W0000 00:00:1747811932.521857  114432 computation_placer.cc:177] computation placer already registered. Please check linkage and avoid linking the same target more than once.\n",
      "2025-05-21 09:18:52.525258: I tensorflow/core/platform/cpu_feature_guard.cc:210] This TensorFlow binary is optimized to use available CPU instructions in performance-critical operations.\n",
      "To enable the following instructions: AVX2 FMA, in other operations, rebuild TensorFlow with the appropriate compiler flags.\n"
     ]
    }
   ],
   "source": [
    "import pandas as pd\n",
    "import numpy as np\n",
    "import sys\n",
    "import os\n",
    "\n",
    "# Allows to get the module in utils\n",
    "sys.path.append(os.path.abspath(\"..\"))\n",
    "\n",
    "\n",
    "from utils.load import load_data\n",
    "from utils.preprocessing import preprocess\n",
    "from utils.split import split_data\n",
    "\n",
    "from sklearn.metrics import classification_report, confusion_matrix\n",
    "# from sklearn.preprocessing import StandardScaler\n",
    "# from sklearn.preprocessing import OneHotEncoder, StandardScaler, LabelEncoder\n",
    "# from sklearn.compose import ColumnTransformer\n",
    "\n",
    "import tensorflow as tf\n",
    "\n",
    "import seaborn as sns\n",
    "import matplotlib.pyplot as plt\n",
    "from sklearn.utils import class_weight\n",
    "\n",
    "import datetime"
   ]
  },
  {
   "cell_type": "code",
   "execution_count": 3,
   "id": "cd7d143f",
   "metadata": {},
   "outputs": [],
   "source": [
    "# Load data\n",
    "df = load_data()"
   ]
  },
  {
   "cell_type": "code",
   "execution_count": 4,
   "id": "d5f90814",
   "metadata": {},
   "outputs": [
    {
     "name": "stderr",
     "output_type": "stream",
     "text": [
      "/home/utilisateur/Documents/deeplearning_brief/DeepLearning-Project/.venv/lib/python3.12/site-packages/sklearn/preprocessing/_encoders.py:246: UserWarning: Found unknown categories in columns [0] during transform. These unknown categories will be encoded as all zeros\n",
      "  warnings.warn(\n",
      "/home/utilisateur/Documents/deeplearning_brief/DeepLearning-Project/.venv/lib/python3.12/site-packages/sklearn/preprocessing/_encoders.py:246: UserWarning: Found unknown categories in columns [0] during transform. These unknown categories will be encoded as all zeros\n",
      "  warnings.warn(\n"
     ]
    }
   ],
   "source": [
    "# Split and preprocess datas set\n",
    "X_train, X_val, X_test, y_train, y_val, y_test = split_data(df)\n",
    "\n",
    "X_train_processed, X_test_processed, X_val_processed, y_test_encoding, y_train_encoded, y_val_encoding, pipeline, le = preprocess(X_train, X_val, X_test, y_train, y_val, y_test)"
   ]
  },
  {
   "cell_type": "code",
   "execution_count": 5,
   "id": "5010af23",
   "metadata": {},
   "outputs": [],
   "source": [
    "X_train_dense = X_train_processed.toarray() if hasattr(X_train_processed, \"toarray\") else X_train_processed\n",
    "X_val_dense = X_val_processed.toarray() if hasattr(X_val_processed, \"toarray\") else X_val_processed\n",
    "X_test_dense = X_test_processed.toarray() if hasattr(X_test_processed, \"toarray\") else X_test_processed"
   ]
  },
  {
   "cell_type": "code",
   "execution_count": 6,
   "id": "4f40492f",
   "metadata": {},
   "outputs": [],
   "source": [
    "y_train_vector = y_train_encoded.reshape(-1)\n",
    "y_val_vector = y_val_encoding.reshape(-1)\n",
    "y_test_vector = y_test_encoding.reshape(-1)"
   ]
  },
  {
   "cell_type": "code",
   "execution_count": 7,
   "id": "6f5480bb",
   "metadata": {},
   "outputs": [
    {
     "name": "stderr",
     "output_type": "stream",
     "text": [
      "E0000 00:00:1747811934.252913  114432 cuda_executor.cc:1228] INTERNAL: CUDA Runtime error: Failed call to cudaGetRuntimeVersion: Error loading CUDA libraries. GPU will not be used.: Error loading CUDA libraries. GPU will not be used.\n",
      "W0000 00:00:1747811934.253266  114432 gpu_device.cc:2341] Cannot dlopen some GPU libraries. Please make sure the missing libraries mentioned above are installed properly if you would like to use GPU. Follow the guide at https://www.tensorflow.org/install/gpu for how to download and setup the required libraries for your platform.\n",
      "Skipping registering GPU devices...\n"
     ]
    },
    {
     "data": {
      "text/html": [
       "<pre style=\"white-space:pre;overflow-x:auto;line-height:normal;font-family:Menlo,'DejaVu Sans Mono',consolas,'Courier New',monospace\"><span style=\"font-weight: bold\">Model: \"sequential\"</span>\n",
       "</pre>\n"
      ],
      "text/plain": [
       "\u001b[1mModel: \"sequential\"\u001b[0m\n"
      ]
     },
     "metadata": {},
     "output_type": "display_data"
    },
    {
     "data": {
      "text/html": [
       "<pre style=\"white-space:pre;overflow-x:auto;line-height:normal;font-family:Menlo,'DejaVu Sans Mono',consolas,'Courier New',monospace\">┏━━━━━━━━━━━━━━━━━━━━━━━━━━━━━━━━━┳━━━━━━━━━━━━━━━━━━━━━━━━┳━━━━━━━━━━━━━━━┓\n",
       "┃<span style=\"font-weight: bold\"> Layer (type)                    </span>┃<span style=\"font-weight: bold\"> Output Shape           </span>┃<span style=\"font-weight: bold\">       Param # </span>┃\n",
       "┡━━━━━━━━━━━━━━━━━━━━━━━━━━━━━━━━━╇━━━━━━━━━━━━━━━━━━━━━━━━╇━━━━━━━━━━━━━━━┩\n",
       "│ dense (<span style=\"color: #0087ff; text-decoration-color: #0087ff\">Dense</span>)                   │ (<span style=\"color: #00d7ff; text-decoration-color: #00d7ff\">None</span>, <span style=\"color: #00af00; text-decoration-color: #00af00\">64</span>)             │       <span style=\"color: #00af00; text-decoration-color: #00af00\">290,368</span> │\n",
       "├─────────────────────────────────┼────────────────────────┼───────────────┤\n",
       "│ dense_1 (<span style=\"color: #0087ff; text-decoration-color: #0087ff\">Dense</span>)                 │ (<span style=\"color: #00d7ff; text-decoration-color: #00d7ff\">None</span>, <span style=\"color: #00af00; text-decoration-color: #00af00\">64</span>)             │         <span style=\"color: #00af00; text-decoration-color: #00af00\">4,160</span> │\n",
       "├─────────────────────────────────┼────────────────────────┼───────────────┤\n",
       "│ dense_2 (<span style=\"color: #0087ff; text-decoration-color: #0087ff\">Dense</span>)                 │ (<span style=\"color: #00d7ff; text-decoration-color: #00d7ff\">None</span>, <span style=\"color: #00af00; text-decoration-color: #00af00\">1</span>)              │            <span style=\"color: #00af00; text-decoration-color: #00af00\">65</span> │\n",
       "└─────────────────────────────────┴────────────────────────┴───────────────┘\n",
       "</pre>\n"
      ],
      "text/plain": [
       "┏━━━━━━━━━━━━━━━━━━━━━━━━━━━━━━━━━┳━━━━━━━━━━━━━━━━━━━━━━━━┳━━━━━━━━━━━━━━━┓\n",
       "┃\u001b[1m \u001b[0m\u001b[1mLayer (type)                   \u001b[0m\u001b[1m \u001b[0m┃\u001b[1m \u001b[0m\u001b[1mOutput Shape          \u001b[0m\u001b[1m \u001b[0m┃\u001b[1m \u001b[0m\u001b[1m      Param #\u001b[0m\u001b[1m \u001b[0m┃\n",
       "┡━━━━━━━━━━━━━━━━━━━━━━━━━━━━━━━━━╇━━━━━━━━━━━━━━━━━━━━━━━━╇━━━━━━━━━━━━━━━┩\n",
       "│ dense (\u001b[38;5;33mDense\u001b[0m)                   │ (\u001b[38;5;45mNone\u001b[0m, \u001b[38;5;34m64\u001b[0m)             │       \u001b[38;5;34m290,368\u001b[0m │\n",
       "├─────────────────────────────────┼────────────────────────┼───────────────┤\n",
       "│ dense_1 (\u001b[38;5;33mDense\u001b[0m)                 │ (\u001b[38;5;45mNone\u001b[0m, \u001b[38;5;34m64\u001b[0m)             │         \u001b[38;5;34m4,160\u001b[0m │\n",
       "├─────────────────────────────────┼────────────────────────┼───────────────┤\n",
       "│ dense_2 (\u001b[38;5;33mDense\u001b[0m)                 │ (\u001b[38;5;45mNone\u001b[0m, \u001b[38;5;34m1\u001b[0m)              │            \u001b[38;5;34m65\u001b[0m │\n",
       "└─────────────────────────────────┴────────────────────────┴───────────────┘\n"
      ]
     },
     "metadata": {},
     "output_type": "display_data"
    },
    {
     "data": {
      "text/html": [
       "<pre style=\"white-space:pre;overflow-x:auto;line-height:normal;font-family:Menlo,'DejaVu Sans Mono',consolas,'Courier New',monospace\"><span style=\"font-weight: bold\"> Total params: </span><span style=\"color: #00af00; text-decoration-color: #00af00\">294,593</span> (1.12 MB)\n",
       "</pre>\n"
      ],
      "text/plain": [
       "\u001b[1m Total params: \u001b[0m\u001b[38;5;34m294,593\u001b[0m (1.12 MB)\n"
      ]
     },
     "metadata": {},
     "output_type": "display_data"
    },
    {
     "data": {
      "text/html": [
       "<pre style=\"white-space:pre;overflow-x:auto;line-height:normal;font-family:Menlo,'DejaVu Sans Mono',consolas,'Courier New',monospace\"><span style=\"font-weight: bold\"> Trainable params: </span><span style=\"color: #00af00; text-decoration-color: #00af00\">294,593</span> (1.12 MB)\n",
       "</pre>\n"
      ],
      "text/plain": [
       "\u001b[1m Trainable params: \u001b[0m\u001b[38;5;34m294,593\u001b[0m (1.12 MB)\n"
      ]
     },
     "metadata": {},
     "output_type": "display_data"
    },
    {
     "data": {
      "text/html": [
       "<pre style=\"white-space:pre;overflow-x:auto;line-height:normal;font-family:Menlo,'DejaVu Sans Mono',consolas,'Courier New',monospace\"><span style=\"font-weight: bold\"> Non-trainable params: </span><span style=\"color: #00af00; text-decoration-color: #00af00\">0</span> (0.00 B)\n",
       "</pre>\n"
      ],
      "text/plain": [
       "\u001b[1m Non-trainable params: \u001b[0m\u001b[38;5;34m0\u001b[0m (0.00 B)\n"
      ]
     },
     "metadata": {},
     "output_type": "display_data"
    }
   ],
   "source": [
    "input_dim = X_train_dense.shape[1]\n",
    "\n",
    "model = tf.keras.Sequential([\n",
    "    tf.keras.layers.Input(shape=(input_dim,)),\n",
    "    tf.keras.layers.Dense(64, activation='relu'),\n",
    "    tf.keras.layers.Dense(64, activation='relu'),\n",
    "    tf.keras.layers.Dense(1, activation='sigmoid')\n",
    "])\n",
    "\n",
    "model.compile(\n",
    "    optimizer=tf.keras.optimizers.Adam(learning_rate=0.01),\n",
    "    loss='binary_crossentropy',\n",
    "    metrics=['accuracy', 'recall', 'auc']\n",
    ")\n",
    "\n",
    "model.summary()"
   ]
  },
  {
   "cell_type": "markdown",
   "id": "0a2644ac",
   "metadata": {},
   "source": [
    "### Exemple of checkpoints use\n",
    "\n",
    "model.compile(loss=..., optimizer=...,\n",
    "              metrics=['accuracy'])\n",
    "\n",
    "EPOCHS = 10\n",
    "checkpoint_filepath = '/tmp/ckpt/checkpoint.model.keras'\n",
    "model_checkpoint_callback = keras.callbacks.ModelCheckpoint(\n",
    "    filepath=checkpoint_filepath,\n",
    "    monitor='val_accuracy',\n",
    "    mode='max',\n",
    "    save_best_only=True)\n",
    "\n",
    "- Model is saved at the end of every epoch, if it's the best seen so far.\n",
    "model.fit(epochs=EPOCHS, callbacks=[model_checkpoint_callback])\n",
    "\n",
    "- The model (that are considered the best) can be loaded as -\n",
    "keras.models.load_model(checkpoint_filepath)\n",
    "\n",
    "- Alternatively, one could checkpoint just the model weights as -\n",
    "checkpoint_filepath = '/tmp/ckpt/checkpoint.weights.h5'\n",
    "model_checkpoint_callback = keras.callbacks.ModelCheckpoint(\n",
    "    filepath=checkpoint_filepath,\n",
    "    save_weights_only=True,\n",
    "    monitor='val_accuracy',\n",
    "    mode='max',\n",
    "    save_best_only=True)\n",
    "\n",
    "- Model weights are saved at the end of every epoch, if it's the best seen so far.\n",
    "model.fit(epochs=EPOCHS, callbacks=[model_checkpoint_callback])\n",
    "\n",
    "- The model weights (that are considered the best) can be loaded as -\n",
    "model.load_weights(checkpoint_filepath)\n"
   ]
  },
  {
   "cell_type": "code",
   "execution_count": 9,
   "id": "b47a1e32",
   "metadata": {},
   "outputs": [],
   "source": [
    "checkpoint_path = \"checkpoints/churn_models.keras\"\n",
    "os.makedirs(os.path.dirname(checkpoint_path), exist_ok=True)\n",
    "model_ckpt = tf.keras.callbacks.ModelCheckpoint(\n",
    "    filepath=checkpoint_path,\n",
    "    monitor='val_accuracy',\n",
    "    mode='max',  \n",
    "    save_best_only=True,# sauvegarde le modèle qui maximise l’accuracy de validation\n",
    "    verbose=1\n",
    ")"
   ]
  },
  {
   "cell_type": "code",
   "execution_count": 10,
   "id": "aa14d11f",
   "metadata": {},
   "outputs": [
    {
     "name": "stdout",
     "output_type": "stream",
     "text": [
      "Epoch 1/20\n",
      "\u001b[1m271/282\u001b[0m \u001b[32m━━━━━━━━━━━━━━━━━━━\u001b[0m\u001b[37m━\u001b[0m \u001b[1m0s\u001b[0m 3ms/step - accuracy: 0.7692 - auc: 0.7929 - loss: 0.4682 - recall: 0.3909\n",
      "Epoch 1: val_accuracy improved from -inf to 0.80568, saving model to checkpoints/churn_models.keras\n",
      "\u001b[1m282/282\u001b[0m \u001b[32m━━━━━━━━━━━━━━━━━━━━\u001b[0m\u001b[37m\u001b[0m \u001b[1m2s\u001b[0m 5ms/step - accuracy: 0.7698 - auc: 0.7939 - loss: 0.4675 - recall: 0.3940 - val_accuracy: 0.8057 - val_auc: 0.8417 - val_loss: 0.4296 - val_recall: 0.5084\n",
      "Epoch 2/20\n",
      "\u001b[1m280/282\u001b[0m \u001b[32m━━━━━━━━━━━━━━━━━━━\u001b[0m\u001b[37m━\u001b[0m \u001b[1m0s\u001b[0m 6ms/step - accuracy: 0.8494 - auc: 0.9012 - loss: 0.3433 - recall: 0.6409\n",
      "Epoch 2: val_accuracy did not improve from 0.80568\n",
      "\u001b[1m282/282\u001b[0m \u001b[32m━━━━━━━━━━━━━━━━━━━━\u001b[0m\u001b[37m\u001b[0m \u001b[1m2s\u001b[0m 7ms/step - accuracy: 0.8494 - auc: 0.9012 - loss: 0.3433 - recall: 0.6409 - val_accuracy: 0.7782 - val_auc: 0.8223 - val_loss: 0.4581 - val_recall: 0.3311\n",
      "Epoch 3/20\n",
      "\u001b[1m279/282\u001b[0m \u001b[32m━━━━━━━━━━━━━━━━━━━\u001b[0m\u001b[37m━\u001b[0m \u001b[1m0s\u001b[0m 6ms/step - accuracy: 0.9708 - auc: 0.9940 - loss: 0.0819 - recall: 0.9140\n",
      "Epoch 3: val_accuracy did not improve from 0.80568\n",
      "\u001b[1m282/282\u001b[0m \u001b[32m━━━━━━━━━━━━━━━━━━━━\u001b[0m\u001b[37m\u001b[0m \u001b[1m2s\u001b[0m 8ms/step - accuracy: 0.9710 - auc: 0.9940 - loss: 0.0815 - recall: 0.9146 - val_accuracy: 0.5998 - val_auc: 0.7568 - val_loss: 1.1686 - val_recall: 0.8629\n",
      "Epoch 4/20\n",
      "\u001b[1m278/282\u001b[0m \u001b[32m━━━━━━━━━━━━━━━━━━━\u001b[0m\u001b[37m━\u001b[0m \u001b[1m0s\u001b[0m 6ms/step - accuracy: 0.9886 - auc: 0.9986 - loss: 0.0297 - recall: 0.9813\n",
      "Epoch 4: val_accuracy did not improve from 0.80568\n",
      "\u001b[1m282/282\u001b[0m \u001b[32m━━━━━━━━━━━━━━━━━━━━\u001b[0m\u001b[37m\u001b[0m \u001b[1m2s\u001b[0m 7ms/step - accuracy: 0.9887 - auc: 0.9986 - loss: 0.0295 - recall: 0.9815 - val_accuracy: 0.7178 - val_auc: 0.7496 - val_loss: 0.5953 - val_recall: 0.4816\n",
      "Epoch 5/20\n",
      "\u001b[1m278/282\u001b[0m \u001b[32m━━━━━━━━━━━━━━━━━━━\u001b[0m\u001b[37m━\u001b[0m \u001b[1m0s\u001b[0m 7ms/step - accuracy: 1.0000 - auc: 1.0000 - loss: 9.3388e-05 - recall: 1.0000\n",
      "Epoch 5: val_accuracy did not improve from 0.80568\n",
      "\u001b[1m282/282\u001b[0m \u001b[32m━━━━━━━━━━━━━━━━━━━━\u001b[0m\u001b[37m\u001b[0m \u001b[1m2s\u001b[0m 8ms/step - accuracy: 1.0000 - auc: 1.0000 - loss: 9.3743e-05 - recall: 1.0000 - val_accuracy: 0.7320 - val_auc: 0.7118 - val_loss: 0.6416 - val_recall: 0.3144\n",
      "Epoch 6/20\n",
      "\u001b[1m282/282\u001b[0m \u001b[32m━━━━━━━━━━━━━━━━━━━━\u001b[0m\u001b[37m\u001b[0m \u001b[1m0s\u001b[0m 7ms/step - accuracy: 1.0000 - auc: 1.0000 - loss: 2.6157e-05 - recall: 1.0000\n",
      "Epoch 6: val_accuracy did not improve from 0.80568\n",
      "\u001b[1m282/282\u001b[0m \u001b[32m━━━━━━━━━━━━━━━━━━━━\u001b[0m\u001b[37m\u001b[0m \u001b[1m2s\u001b[0m 8ms/step - accuracy: 1.0000 - auc: 1.0000 - loss: 2.6149e-05 - recall: 1.0000 - val_accuracy: 0.7320 - val_auc: 0.7325 - val_loss: 0.6318 - val_recall: 0.3378\n",
      "Epoch 7/20\n",
      "\u001b[1m279/282\u001b[0m \u001b[32m━━━━━━━━━━━━━━━━━━━\u001b[0m\u001b[37m━\u001b[0m \u001b[1m0s\u001b[0m 9ms/step - accuracy: 1.0000 - auc: 1.0000 - loss: 1.5732e-05 - recall: 1.0000\n",
      "Epoch 7: val_accuracy did not improve from 0.80568\n",
      "\u001b[1m282/282\u001b[0m \u001b[32m━━━━━━━━━━━━━━━━━━━━\u001b[0m\u001b[37m\u001b[0m \u001b[1m3s\u001b[0m 10ms/step - accuracy: 1.0000 - auc: 1.0000 - loss: 1.5717e-05 - recall: 1.0000 - val_accuracy: 0.7382 - val_auc: 0.7399 - val_loss: 0.6333 - val_recall: 0.3579\n",
      "Epoch 8/20\n",
      "\u001b[1m279/282\u001b[0m \u001b[32m━━━━━━━━━━━━━━━━━━━\u001b[0m\u001b[37m━\u001b[0m \u001b[1m0s\u001b[0m 6ms/step - accuracy: 1.0000 - auc: 1.0000 - loss: 1.0696e-05 - recall: 1.0000\n",
      "Epoch 8: val_accuracy did not improve from 0.80568\n",
      "\u001b[1m282/282\u001b[0m \u001b[32m━━━━━━━━━━━━━━━━━━━━\u001b[0m\u001b[37m\u001b[0m \u001b[1m2s\u001b[0m 7ms/step - accuracy: 1.0000 - auc: 1.0000 - loss: 1.0689e-05 - recall: 1.0000 - val_accuracy: 0.7436 - val_auc: 0.7437 - val_loss: 0.6359 - val_recall: 0.3712\n",
      "Epoch 9/20\n",
      "\u001b[1m279/282\u001b[0m \u001b[32m━━━━━━━━━━━━━━━━━━━\u001b[0m\u001b[37m━\u001b[0m \u001b[1m0s\u001b[0m 7ms/step - accuracy: 1.0000 - auc: 1.0000 - loss: 7.7706e-06 - recall: 1.0000\n",
      "Epoch 9: val_accuracy did not improve from 0.80568\n",
      "\u001b[1m282/282\u001b[0m \u001b[32m━━━━━━━━━━━━━━━━━━━━\u001b[0m\u001b[37m\u001b[0m \u001b[1m2s\u001b[0m 8ms/step - accuracy: 1.0000 - auc: 1.0000 - loss: 7.7676e-06 - recall: 1.0000 - val_accuracy: 0.7453 - val_auc: 0.7445 - val_loss: 0.6388 - val_recall: 0.3779\n",
      "Epoch 10/20\n",
      "\u001b[1m277/282\u001b[0m \u001b[32m━━━━━━━━━━━━━━━━━━━\u001b[0m\u001b[37m━\u001b[0m \u001b[1m0s\u001b[0m 8ms/step - accuracy: 1.0000 - auc: 1.0000 - loss: 6.2933e-06 - recall: 1.0000\n",
      "Epoch 10: val_accuracy did not improve from 0.80568\n",
      "\u001b[1m282/282\u001b[0m \u001b[32m━━━━━━━━━━━━━━━━━━━━\u001b[0m\u001b[37m\u001b[0m \u001b[1m3s\u001b[0m 10ms/step - accuracy: 1.0000 - auc: 1.0000 - loss: 6.2823e-06 - recall: 1.0000 - val_accuracy: 0.7471 - val_auc: 0.7435 - val_loss: 0.6465 - val_recall: 0.3746\n",
      "Epoch 11/20\n",
      "\u001b[1m279/282\u001b[0m \u001b[32m━━━━━━━━━━━━━━━━━━━\u001b[0m\u001b[37m━\u001b[0m \u001b[1m0s\u001b[0m 9ms/step - accuracy: 1.0000 - auc: 1.0000 - loss: 4.7385e-06 - recall: 1.0000\n",
      "Epoch 11: val_accuracy did not improve from 0.80568\n",
      "\u001b[1m282/282\u001b[0m \u001b[32m━━━━━━━━━━━━━━━━━━━━\u001b[0m\u001b[37m\u001b[0m \u001b[1m3s\u001b[0m 10ms/step - accuracy: 1.0000 - auc: 1.0000 - loss: 4.7350e-06 - recall: 1.0000 - val_accuracy: 0.7498 - val_auc: 0.7445 - val_loss: 0.6524 - val_recall: 0.3746\n",
      "Epoch 12/20\n",
      "\u001b[1m282/282\u001b[0m \u001b[32m━━━━━━━━━━━━━━━━━━━━\u001b[0m\u001b[37m\u001b[0m \u001b[1m0s\u001b[0m 6ms/step - accuracy: 1.0000 - auc: 1.0000 - loss: 3.6799e-06 - recall: 1.0000\n",
      "Epoch 12: val_accuracy did not improve from 0.80568\n",
      "\u001b[1m282/282\u001b[0m \u001b[32m━━━━━━━━━━━━━━━━━━━━\u001b[0m\u001b[37m\u001b[0m \u001b[1m2s\u001b[0m 8ms/step - accuracy: 1.0000 - auc: 1.0000 - loss: 3.6794e-06 - recall: 1.0000 - val_accuracy: 0.7480 - val_auc: 0.7439 - val_loss: 0.6564 - val_recall: 0.3746\n",
      "Epoch 13/20\n",
      "\u001b[1m278/282\u001b[0m \u001b[32m━━━━━━━━━━━━━━━━━━━\u001b[0m\u001b[37m━\u001b[0m \u001b[1m0s\u001b[0m 9ms/step - accuracy: 1.0000 - auc: 1.0000 - loss: 2.7731e-06 - recall: 1.0000\n",
      "Epoch 13: val_accuracy did not improve from 0.80568\n",
      "\u001b[1m282/282\u001b[0m \u001b[32m━━━━━━━━━━━━━━━━━━━━\u001b[0m\u001b[37m\u001b[0m \u001b[1m3s\u001b[0m 10ms/step - accuracy: 1.0000 - auc: 1.0000 - loss: 2.7742e-06 - recall: 1.0000 - val_accuracy: 0.7533 - val_auc: 0.7440 - val_loss: 0.6622 - val_recall: 0.3712\n",
      "Epoch 14/20\n",
      "\u001b[1m280/282\u001b[0m \u001b[32m━━━━━━━━━━━━━━━━━━━\u001b[0m\u001b[37m━\u001b[0m \u001b[1m0s\u001b[0m 9ms/step - accuracy: 1.0000 - auc: 1.0000 - loss: 2.2912e-06 - recall: 1.0000\n",
      "Epoch 14: val_accuracy did not improve from 0.80568\n",
      "\u001b[1m282/282\u001b[0m \u001b[32m━━━━━━━━━━━━━━━━━━━━\u001b[0m\u001b[37m\u001b[0m \u001b[1m3s\u001b[0m 11ms/step - accuracy: 1.0000 - auc: 1.0000 - loss: 2.2913e-06 - recall: 1.0000 - val_accuracy: 0.7542 - val_auc: 0.7413 - val_loss: 0.6684 - val_recall: 0.3679\n",
      "Epoch 15/20\n",
      "\u001b[1m279/282\u001b[0m \u001b[32m━━━━━━━━━━━━━━━━━━━\u001b[0m\u001b[37m━\u001b[0m \u001b[1m0s\u001b[0m 9ms/step - accuracy: 1.0000 - auc: 1.0000 - loss: 2.0179e-06 - recall: 1.0000\n",
      "Epoch 15: val_accuracy did not improve from 0.80568\n",
      "\u001b[1m282/282\u001b[0m \u001b[32m━━━━━━━━━━━━━━━━━━━━\u001b[0m\u001b[37m\u001b[0m \u001b[1m3s\u001b[0m 10ms/step - accuracy: 1.0000 - auc: 1.0000 - loss: 2.0159e-06 - recall: 1.0000 - val_accuracy: 0.7542 - val_auc: 0.7399 - val_loss: 0.6730 - val_recall: 0.3645\n",
      "Epoch 16/20\n",
      "\u001b[1m277/282\u001b[0m \u001b[32m━━━━━━━━━━━━━━━━━━━\u001b[0m\u001b[37m━\u001b[0m \u001b[1m0s\u001b[0m 5ms/step - accuracy: 1.0000 - auc: 1.0000 - loss: 1.4898e-06 - recall: 1.0000\n",
      "Epoch 16: val_accuracy did not improve from 0.80568\n",
      "\u001b[1m282/282\u001b[0m \u001b[32m━━━━━━━━━━━━━━━━━━━━\u001b[0m\u001b[37m\u001b[0m \u001b[1m2s\u001b[0m 7ms/step - accuracy: 1.0000 - auc: 1.0000 - loss: 1.4909e-06 - recall: 1.0000 - val_accuracy: 0.7569 - val_auc: 0.7389 - val_loss: 0.6795 - val_recall: 0.3645\n",
      "Epoch 17/20\n",
      "\u001b[1m280/282\u001b[0m \u001b[32m━━━━━━━━━━━━━━━━━━━\u001b[0m\u001b[37m━\u001b[0m \u001b[1m0s\u001b[0m 6ms/step - accuracy: 1.0000 - auc: 1.0000 - loss: 1.2638e-06 - recall: 1.0000\n",
      "Epoch 17: val_accuracy did not improve from 0.80568\n",
      "\u001b[1m282/282\u001b[0m \u001b[32m━━━━━━━━━━━━━━━━━━━━\u001b[0m\u001b[37m\u001b[0m \u001b[1m2s\u001b[0m 8ms/step - accuracy: 1.0000 - auc: 1.0000 - loss: 1.2639e-06 - recall: 1.0000 - val_accuracy: 0.7578 - val_auc: 0.7392 - val_loss: 0.6852 - val_recall: 0.3612\n",
      "Epoch 18/20\n",
      "\u001b[1m281/282\u001b[0m \u001b[32m━━━━━━━━━━━━━━━━━━━\u001b[0m\u001b[37m━\u001b[0m \u001b[1m0s\u001b[0m 6ms/step - accuracy: 1.0000 - auc: 1.0000 - loss: 1.0881e-06 - recall: 1.0000\n",
      "Epoch 18: val_accuracy did not improve from 0.80568\n",
      "\u001b[1m282/282\u001b[0m \u001b[32m━━━━━━━━━━━━━━━━━━━━\u001b[0m\u001b[37m\u001b[0m \u001b[1m2s\u001b[0m 8ms/step - accuracy: 1.0000 - auc: 1.0000 - loss: 1.0879e-06 - recall: 1.0000 - val_accuracy: 0.7569 - val_auc: 0.7371 - val_loss: 0.6908 - val_recall: 0.3579\n",
      "Epoch 19/20\n",
      "\u001b[1m278/282\u001b[0m \u001b[32m━━━━━━━━━━━━━━━━━━━\u001b[0m\u001b[37m━\u001b[0m \u001b[1m0s\u001b[0m 9ms/step - accuracy: 1.0000 - auc: 1.0000 - loss: 8.8364e-07 - recall: 1.0000\n",
      "Epoch 19: val_accuracy did not improve from 0.80568\n",
      "\u001b[1m282/282\u001b[0m \u001b[32m━━━━━━━━━━━━━━━━━━━━\u001b[0m\u001b[37m\u001b[0m \u001b[1m3s\u001b[0m 11ms/step - accuracy: 1.0000 - auc: 1.0000 - loss: 8.8370e-07 - recall: 1.0000 - val_accuracy: 0.7542 - val_auc: 0.7383 - val_loss: 0.6963 - val_recall: 0.3478\n",
      "Epoch 20/20\n",
      "\u001b[1m282/282\u001b[0m \u001b[32m━━━━━━━━━━━━━━━━━━━━\u001b[0m\u001b[37m\u001b[0m \u001b[1m0s\u001b[0m 5ms/step - accuracy: 1.0000 - auc: 1.0000 - loss: 7.5310e-07 - recall: 1.0000\n",
      "Epoch 20: val_accuracy did not improve from 0.80568\n",
      "\u001b[1m282/282\u001b[0m \u001b[32m━━━━━━━━━━━━━━━━━━━━\u001b[0m\u001b[37m\u001b[0m \u001b[1m2s\u001b[0m 6ms/step - accuracy: 1.0000 - auc: 1.0000 - loss: 7.5308e-07 - recall: 1.0000 - val_accuracy: 0.7551 - val_auc: 0.7365 - val_loss: 0.7021 - val_recall: 0.3445\n"
     ]
    }
   ],
   "source": [
    "history = model.fit(\n",
    "    X_train_dense, y_train_vector,\n",
    "    validation_data=(X_val_dense, y_val_vector),\n",
    "    epochs=20,\n",
    "    batch_size=16,\n",
    "    callbacks=[model_ckpt],\n",
    "    verbose=1\n",
    ")"
   ]
  },
  {
   "cell_type": "code",
   "execution_count": 11,
   "id": "0c10f9ef",
   "metadata": {},
   "outputs": [
    {
     "name": "stdout",
     "output_type": "stream",
     "text": [
      "\u001b[1m45/45\u001b[0m \u001b[32m━━━━━━━━━━━━━━━━━━━━\u001b[0m\u001b[37m\u001b[0m \u001b[1m0s\u001b[0m 1ms/step\n",
      "\n",
      "Classification Report :\n",
      "              precision    recall  f1-score   support\n",
      "\n",
      "           0       0.73      1.00      0.85      1035\n",
      "           1       0.00      0.00      0.00       374\n",
      "\n",
      "    accuracy                           0.73      1409\n",
      "   macro avg       0.37      0.50      0.42      1409\n",
      "weighted avg       0.54      0.73      0.62      1409\n",
      "\n"
     ]
    },
    {
     "name": "stderr",
     "output_type": "stream",
     "text": [
      "/home/utilisateur/Documents/deeplearning_brief/DeepLearning-Project/.venv/lib/python3.12/site-packages/sklearn/metrics/_classification.py:1565: UndefinedMetricWarning: Precision is ill-defined and being set to 0.0 in labels with no predicted samples. Use `zero_division` parameter to control this behavior.\n",
      "  _warn_prf(average, modifier, f\"{metric.capitalize()} is\", len(result))\n",
      "/home/utilisateur/Documents/deeplearning_brief/DeepLearning-Project/.venv/lib/python3.12/site-packages/sklearn/metrics/_classification.py:1565: UndefinedMetricWarning: Precision is ill-defined and being set to 0.0 in labels with no predicted samples. Use `zero_division` parameter to control this behavior.\n",
      "  _warn_prf(average, modifier, f\"{metric.capitalize()} is\", len(result))\n",
      "/home/utilisateur/Documents/deeplearning_brief/DeepLearning-Project/.venv/lib/python3.12/site-packages/sklearn/metrics/_classification.py:1565: UndefinedMetricWarning: Precision is ill-defined and being set to 0.0 in labels with no predicted samples. Use `zero_division` parameter to control this behavior.\n",
      "  _warn_prf(average, modifier, f\"{metric.capitalize()} is\", len(result))\n"
     ]
    }
   ],
   "source": [
    "y_pred_probs = model.predict(X_test_dense)\n",
    "y_pred = np.argmax(y_pred_probs, axis=1)\n",
    "print(\"\\nClassification Report :\")\n",
    "print(classification_report(y_test_vector, y_pred))"
   ]
  },
  {
   "cell_type": "code",
   "execution_count": 12,
   "id": "c6f14ffb",
   "metadata": {},
   "outputs": [
    {
     "name": "stdout",
     "output_type": "stream",
     "text": [
      "Matrice de Confusion :\n",
      "[[1035    0]\n",
      " [ 374    0]]\n"
     ]
    }
   ],
   "source": [
    "print(\"Matrice de Confusion :\")\n",
    "cm = confusion_matrix(y_test_vector, y_pred)\n",
    "print(cm)"
   ]
  },
  {
   "cell_type": "code",
   "execution_count": 13,
   "id": "7abbb99e",
   "metadata": {},
   "outputs": [
    {
     "name": "stdout",
     "output_type": "stream",
     "text": [
      "\u001b[1m45/45\u001b[0m \u001b[32m━━━━━━━━━━━━━━━━━━━━\u001b[0m\u001b[37m\u001b[0m \u001b[1m0s\u001b[0m 1ms/step \n",
      "\n",
      "Classification Report :\n",
      "              precision    recall  f1-score   support\n",
      "\n",
      "           0       0.80      0.89      0.84      1035\n",
      "           1       0.55      0.37      0.44       374\n",
      "\n",
      "    accuracy                           0.75      1409\n",
      "   macro avg       0.67      0.63      0.64      1409\n",
      "weighted avg       0.73      0.75      0.73      1409\n",
      "\n"
     ]
    },
    {
     "data": {
      "text/plain": [
       "((1409,), (1409, 1))"
      ]
     },
     "execution_count": 13,
     "metadata": {},
     "output_type": "execute_result"
    }
   ],
   "source": [
    "y_pred_probs = model.predict(X_test_dense)\n",
    "\n",
    "probs = y_pred_probs.ravel()\n",
    "\n",
    "y_pred = (probs >= 0.5)\n",
    "print(\"\\nClassification Report :\")\n",
    "print(classification_report(y_test_vector, y_pred))\n",
    "y_test_vector.shape, y_pred_probs.shape"
   ]
  },
  {
   "cell_type": "code",
   "execution_count": 14,
   "id": "d64f9031",
   "metadata": {},
   "outputs": [],
   "source": [
    "%load_ext tensorboard"
   ]
  },
  {
   "cell_type": "code",
   "execution_count": 15,
   "id": "d309e702",
   "metadata": {},
   "outputs": [],
   "source": [
    "early_stop = tf.keras.callbacks.EarlyStopping(\n",
    "    monitor='val_loss',    # surveille la perte de validation\n",
    "    patience=3,            # tolère 3 époques sans amélioration\n",
    "    restore_best_weights=True\n",
    ")"
   ]
  },
  {
   "cell_type": "code",
   "execution_count": 16,
   "id": "ebdda1b3",
   "metadata": {},
   "outputs": [],
   "source": [
    "log_dir = os.path.join(\n",
    "    \"logs\", \"fit\", datetime.datetime.now().strftime(\"%Y%m%d-%H%M%S\")\n",
    ")\n",
    "tensorboard_cb = tf.keras.callbacks.TensorBoard(\n",
    "    log_dir=log_dir,\n",
    "    histogram_freq=1,       # enregistre les histogrammes de poids chaque époque\n",
    "    write_graph=True,       # sauvegarde le graph du modèle\n",
    "    write_images=True\n",
    ")"
   ]
  },
  {
   "cell_type": "code",
   "execution_count": 17,
   "id": "cf717bed",
   "metadata": {},
   "outputs": [
    {
     "name": "stdout",
     "output_type": "stream",
     "text": [
      "Epoch 1/20\n",
      "\u001b[1m221/226\u001b[0m \u001b[32m━━━━━━━━━━━━━━━━━━━\u001b[0m\u001b[37m━\u001b[0m \u001b[1m0s\u001b[0m 3ms/step - accuracy: 1.0000 - auc: 1.0000 - loss: 6.7295e-07 - recall: 1.0000\n",
      "Epoch 1: val_accuracy improved from 0.80568 to 1.00000, saving model to checkpoints/churn_models.keras\n",
      "\u001b[1m226/226\u001b[0m \u001b[32m━━━━━━━━━━━━━━━━━━━━\u001b[0m\u001b[37m\u001b[0m \u001b[1m1s\u001b[0m 5ms/step - accuracy: 1.0000 - auc: 1.0000 - loss: 6.7224e-07 - recall: 1.0000 - val_accuracy: 1.0000 - val_auc: 1.0000 - val_loss: 5.4797e-07 - val_recall: 1.0000\n",
      "Epoch 2/20\n",
      "\u001b[1m222/226\u001b[0m \u001b[32m━━━━━━━━━━━━━━━━━━━\u001b[0m\u001b[37m━\u001b[0m \u001b[1m0s\u001b[0m 6ms/step - accuracy: 1.0000 - auc: 1.0000 - loss: 5.4067e-07 - recall: 1.0000\n",
      "Epoch 2: val_accuracy did not improve from 1.00000\n",
      "\u001b[1m226/226\u001b[0m \u001b[32m━━━━━━━━━━━━━━━━━━━━\u001b[0m\u001b[37m\u001b[0m \u001b[1m2s\u001b[0m 8ms/step - accuracy: 1.0000 - auc: 1.0000 - loss: 5.4106e-07 - recall: 1.0000 - val_accuracy: 1.0000 - val_auc: 1.0000 - val_loss: 4.9092e-07 - val_recall: 1.0000\n",
      "Epoch 3/20\n",
      "\u001b[1m214/226\u001b[0m \u001b[32m━━━━━━━━━━━━━━━━━━\u001b[0m\u001b[37m━━\u001b[0m \u001b[1m0s\u001b[0m 3ms/step - accuracy: 1.0000 - auc: 1.0000 - loss: 4.6965e-07 - recall: 1.0000\n",
      "Epoch 3: val_accuracy did not improve from 1.00000\n",
      "\u001b[1m226/226\u001b[0m \u001b[32m━━━━━━━━━━━━━━━━━━━━\u001b[0m\u001b[37m\u001b[0m \u001b[1m1s\u001b[0m 4ms/step - accuracy: 1.0000 - auc: 1.0000 - loss: 4.7051e-07 - recall: 1.0000 - val_accuracy: 1.0000 - val_auc: 1.0000 - val_loss: 4.3803e-07 - val_recall: 1.0000\n",
      "Epoch 4/20\n",
      "\u001b[1m224/226\u001b[0m \u001b[32m━━━━━━━━━━━━━━━━━━━\u001b[0m\u001b[37m━\u001b[0m \u001b[1m0s\u001b[0m 7ms/step - accuracy: 1.0000 - auc: 1.0000 - loss: 4.1859e-07 - recall: 1.0000\n",
      "Epoch 4: val_accuracy did not improve from 1.00000\n",
      "\u001b[1m226/226\u001b[0m \u001b[32m━━━━━━━━━━━━━━━━━━━━\u001b[0m\u001b[37m\u001b[0m \u001b[1m2s\u001b[0m 10ms/step - accuracy: 1.0000 - auc: 1.0000 - loss: 4.1861e-07 - recall: 1.0000 - val_accuracy: 1.0000 - val_auc: 1.0000 - val_loss: 3.9165e-07 - val_recall: 1.0000\n",
      "Epoch 5/20\n",
      "\u001b[1m225/226\u001b[0m \u001b[32m━━━━━━━━━━━━━━━━━━━\u001b[0m\u001b[37m━\u001b[0m \u001b[1m0s\u001b[0m 9ms/step - accuracy: 1.0000 - auc: 1.0000 - loss: 3.8091e-07 - recall: 1.0000\n",
      "Epoch 5: val_accuracy did not improve from 1.00000\n",
      "\u001b[1m226/226\u001b[0m \u001b[32m━━━━━━━━━━━━━━━━━━━━\u001b[0m\u001b[37m\u001b[0m \u001b[1m3s\u001b[0m 12ms/step - accuracy: 1.0000 - auc: 1.0000 - loss: 3.8077e-07 - recall: 1.0000 - val_accuracy: 1.0000 - val_auc: 1.0000 - val_loss: 3.4964e-07 - val_recall: 1.0000\n",
      "Epoch 6/20\n",
      "\u001b[1m225/226\u001b[0m \u001b[32m━━━━━━━━━━━━━━━━━━━\u001b[0m\u001b[37m━\u001b[0m \u001b[1m0s\u001b[0m 7ms/step - accuracy: 1.0000 - auc: 1.0000 - loss: 2.9943e-07 - recall: 1.0000\n",
      "Epoch 6: val_accuracy did not improve from 1.00000\n",
      "\u001b[1m226/226\u001b[0m \u001b[32m━━━━━━━━━━━━━━━━━━━━\u001b[0m\u001b[37m\u001b[0m \u001b[1m2s\u001b[0m 10ms/step - accuracy: 1.0000 - auc: 1.0000 - loss: 2.9958e-07 - recall: 1.0000 - val_accuracy: 1.0000 - val_auc: 1.0000 - val_loss: 3.1447e-07 - val_recall: 1.0000\n",
      "Epoch 7/20\n",
      "\u001b[1m222/226\u001b[0m \u001b[32m━━━━━━━━━━━━━━━━━━━\u001b[0m\u001b[37m━\u001b[0m \u001b[1m0s\u001b[0m 4ms/step - accuracy: 1.0000 - auc: 1.0000 - loss: 2.7375e-07 - recall: 1.0000\n",
      "Epoch 7: val_accuracy did not improve from 1.00000\n",
      "\u001b[1m226/226\u001b[0m \u001b[32m━━━━━━━━━━━━━━━━━━━━\u001b[0m\u001b[37m\u001b[0m \u001b[1m2s\u001b[0m 8ms/step - accuracy: 1.0000 - auc: 1.0000 - loss: 2.7380e-07 - recall: 1.0000 - val_accuracy: 1.0000 - val_auc: 1.0000 - val_loss: 2.8133e-07 - val_recall: 1.0000\n",
      "Epoch 8/20\n",
      "\u001b[1m226/226\u001b[0m \u001b[32m━━━━━━━━━━━━━━━━━━━━\u001b[0m\u001b[37m\u001b[0m \u001b[1m0s\u001b[0m 9ms/step - accuracy: 1.0000 - auc: 1.0000 - loss: 2.4504e-07 - recall: 1.0000\n",
      "Epoch 8: val_accuracy did not improve from 1.00000\n",
      "\u001b[1m226/226\u001b[0m \u001b[32m━━━━━━━━━━━━━━━━━━━━\u001b[0m\u001b[37m\u001b[0m \u001b[1m2s\u001b[0m 10ms/step - accuracy: 1.0000 - auc: 1.0000 - loss: 2.4502e-07 - recall: 1.0000 - val_accuracy: 1.0000 - val_auc: 1.0000 - val_loss: 2.4949e-07 - val_recall: 1.0000\n",
      "Epoch 9/20\n",
      "\u001b[1m218/226\u001b[0m \u001b[32m━━━━━━━━━━━━━━━━━━━\u001b[0m\u001b[37m━\u001b[0m \u001b[1m0s\u001b[0m 4ms/step - accuracy: 1.0000 - auc: 1.0000 - loss: 2.1386e-07 - recall: 1.0000\n",
      "Epoch 9: val_accuracy did not improve from 1.00000\n",
      "\u001b[1m226/226\u001b[0m \u001b[32m━━━━━━━━━━━━━━━━━━━━\u001b[0m\u001b[37m\u001b[0m \u001b[1m1s\u001b[0m 5ms/step - accuracy: 1.0000 - auc: 1.0000 - loss: 2.1352e-07 - recall: 1.0000 - val_accuracy: 1.0000 - val_auc: 1.0000 - val_loss: 2.2145e-07 - val_recall: 1.0000\n",
      "Epoch 10/20\n",
      "\u001b[1m224/226\u001b[0m \u001b[32m━━━━━━━━━━━━━━━━━━━\u001b[0m\u001b[37m━\u001b[0m \u001b[1m0s\u001b[0m 8ms/step - accuracy: 1.0000 - auc: 1.0000 - loss: 1.8246e-07 - recall: 1.0000\n",
      "Epoch 10: val_accuracy did not improve from 1.00000\n",
      "\u001b[1m226/226\u001b[0m \u001b[32m━━━━━━━━━━━━━━━━━━━━\u001b[0m\u001b[37m\u001b[0m \u001b[1m3s\u001b[0m 11ms/step - accuracy: 1.0000 - auc: 1.0000 - loss: 1.8234e-07 - recall: 1.0000 - val_accuracy: 1.0000 - val_auc: 1.0000 - val_loss: 1.9194e-07 - val_recall: 1.0000\n",
      "Epoch 11/20\n",
      "\u001b[1m222/226\u001b[0m \u001b[32m━━━━━━━━━━━━━━━━━━━\u001b[0m\u001b[37m━\u001b[0m \u001b[1m0s\u001b[0m 9ms/step - accuracy: 1.0000 - auc: 1.0000 - loss: 1.5182e-07 - recall: 1.0000\n",
      "Epoch 11: val_accuracy did not improve from 1.00000\n",
      "\u001b[1m226/226\u001b[0m \u001b[32m━━━━━━━━━━━━━━━━━━━━\u001b[0m\u001b[37m\u001b[0m \u001b[1m3s\u001b[0m 13ms/step - accuracy: 1.0000 - auc: 1.0000 - loss: 1.5170e-07 - recall: 1.0000 - val_accuracy: 1.0000 - val_auc: 1.0000 - val_loss: 1.6815e-07 - val_recall: 1.0000\n",
      "Epoch 12/20\n",
      "\u001b[1m217/226\u001b[0m \u001b[32m━━━━━━━━━━━━━━━━━━━\u001b[0m\u001b[37m━\u001b[0m \u001b[1m0s\u001b[0m 8ms/step - accuracy: 1.0000 - auc: 1.0000 - loss: 1.2348e-07 - recall: 1.0000\n",
      "Epoch 12: val_accuracy did not improve from 1.00000\n",
      "\u001b[1m226/226\u001b[0m \u001b[32m━━━━━━━━━━━━━━━━━━━━\u001b[0m\u001b[37m\u001b[0m \u001b[1m2s\u001b[0m 10ms/step - accuracy: 1.0000 - auc: 1.0000 - loss: 1.2350e-07 - recall: 1.0000 - val_accuracy: 1.0000 - val_auc: 1.0000 - val_loss: 1.4674e-07 - val_recall: 1.0000\n",
      "Epoch 13/20\n",
      "\u001b[1m226/226\u001b[0m \u001b[32m━━━━━━━━━━━━━━━━━━━━\u001b[0m\u001b[37m\u001b[0m \u001b[1m0s\u001b[0m 8ms/step - accuracy: 1.0000 - auc: 1.0000 - loss: 1.0703e-07 - recall: 1.0000\n",
      "Epoch 13: val_accuracy did not improve from 1.00000\n",
      "\u001b[1m226/226\u001b[0m \u001b[32m━━━━━━━━━━━━━━━━━━━━\u001b[0m\u001b[37m\u001b[0m \u001b[1m2s\u001b[0m 10ms/step - accuracy: 1.0000 - auc: 1.0000 - loss: 1.0702e-07 - recall: 1.0000 - val_accuracy: 1.0000 - val_auc: 1.0000 - val_loss: 1.2885e-07 - val_recall: 1.0000\n",
      "Epoch 14/20\n",
      "\u001b[1m226/226\u001b[0m \u001b[32m━━━━━━━━━━━━━━━━━━━━\u001b[0m\u001b[37m\u001b[0m \u001b[1m0s\u001b[0m 6ms/step - accuracy: 1.0000 - auc: 1.0000 - loss: 9.4508e-08 - recall: 1.0000\n",
      "Epoch 14: val_accuracy did not improve from 1.00000\n",
      "\u001b[1m226/226\u001b[0m \u001b[32m━━━━━━━━━━━━━━━━━━━━\u001b[0m\u001b[37m\u001b[0m \u001b[1m2s\u001b[0m 8ms/step - accuracy: 1.0000 - auc: 1.0000 - loss: 9.4497e-08 - recall: 1.0000 - val_accuracy: 1.0000 - val_auc: 1.0000 - val_loss: 1.1397e-07 - val_recall: 1.0000\n",
      "Epoch 15/20\n",
      "\u001b[1m223/226\u001b[0m \u001b[32m━━━━━━━━━━━━━━━━━━━\u001b[0m\u001b[37m━\u001b[0m \u001b[1m0s\u001b[0m 9ms/step - accuracy: 1.0000 - auc: 1.0000 - loss: 8.9019e-08 - recall: 1.0000\n",
      "Epoch 15: val_accuracy did not improve from 1.00000\n",
      "\u001b[1m226/226\u001b[0m \u001b[32m━━━━━━━━━━━━━━━━━━━━\u001b[0m\u001b[37m\u001b[0m \u001b[1m3s\u001b[0m 13ms/step - accuracy: 1.0000 - auc: 1.0000 - loss: 8.8862e-08 - recall: 1.0000 - val_accuracy: 1.0000 - val_auc: 1.0000 - val_loss: 1.0121e-07 - val_recall: 1.0000\n",
      "Epoch 16/20\n",
      "\u001b[1m224/226\u001b[0m \u001b[32m━━━━━━━━━━━━━━━━━━━\u001b[0m\u001b[37m━\u001b[0m \u001b[1m0s\u001b[0m 5ms/step - accuracy: 1.0000 - auc: 1.0000 - loss: 7.2014e-08 - recall: 1.0000\n",
      "Epoch 16: val_accuracy did not improve from 1.00000\n",
      "\u001b[1m226/226\u001b[0m \u001b[32m━━━━━━━━━━━━━━━━━━━━\u001b[0m\u001b[37m\u001b[0m \u001b[1m2s\u001b[0m 7ms/step - accuracy: 1.0000 - auc: 1.0000 - loss: 7.1983e-08 - recall: 1.0000 - val_accuracy: 1.0000 - val_auc: 1.0000 - val_loss: 9.0287e-08 - val_recall: 1.0000\n",
      "Epoch 17/20\n",
      "\u001b[1m225/226\u001b[0m \u001b[32m━━━━━━━━━━━━━━━━━━━\u001b[0m\u001b[37m━\u001b[0m \u001b[1m0s\u001b[0m 6ms/step - accuracy: 1.0000 - auc: 1.0000 - loss: 6.1153e-08 - recall: 1.0000\n",
      "Epoch 17: val_accuracy did not improve from 1.00000\n",
      "\u001b[1m226/226\u001b[0m \u001b[32m━━━━━━━━━━━━━━━━━━━━\u001b[0m\u001b[37m\u001b[0m \u001b[1m2s\u001b[0m 9ms/step - accuracy: 1.0000 - auc: 1.0000 - loss: 6.1149e-08 - recall: 1.0000 - val_accuracy: 1.0000 - val_auc: 1.0000 - val_loss: 8.0556e-08 - val_recall: 1.0000\n",
      "Epoch 18/20\n",
      "\u001b[1m221/226\u001b[0m \u001b[32m━━━━━━━━━━━━━━━━━━━\u001b[0m\u001b[37m━\u001b[0m \u001b[1m0s\u001b[0m 5ms/step - accuracy: 1.0000 - auc: 1.0000 - loss: 5.3288e-08 - recall: 1.0000\n",
      "Epoch 18: val_accuracy did not improve from 1.00000\n",
      "\u001b[1m226/226\u001b[0m \u001b[32m━━━━━━━━━━━━━━━━━━━━\u001b[0m\u001b[37m\u001b[0m \u001b[1m2s\u001b[0m 7ms/step - accuracy: 1.0000 - auc: 1.0000 - loss: 5.3282e-08 - recall: 1.0000 - val_accuracy: 1.0000 - val_auc: 1.0000 - val_loss: 7.1733e-08 - val_recall: 1.0000\n",
      "Epoch 19/20\n",
      "\u001b[1m224/226\u001b[0m \u001b[32m━━━━━━━━━━━━━━━━━━━\u001b[0m\u001b[37m━\u001b[0m \u001b[1m0s\u001b[0m 7ms/step - accuracy: 1.0000 - auc: 1.0000 - loss: 5.0783e-08 - recall: 1.0000\n",
      "Epoch 19: val_accuracy did not improve from 1.00000\n",
      "\u001b[1m226/226\u001b[0m \u001b[32m━━━━━━━━━━━━━━━━━━━━\u001b[0m\u001b[37m\u001b[0m \u001b[1m2s\u001b[0m 10ms/step - accuracy: 1.0000 - auc: 1.0000 - loss: 5.0723e-08 - recall: 1.0000 - val_accuracy: 1.0000 - val_auc: 1.0000 - val_loss: 6.5159e-08 - val_recall: 1.0000\n",
      "Epoch 20/20\n",
      "\u001b[1m223/226\u001b[0m \u001b[32m━━━━━━━━━━━━━━━━━━━\u001b[0m\u001b[37m━\u001b[0m \u001b[1m0s\u001b[0m 6ms/step - accuracy: 1.0000 - auc: 1.0000 - loss: 4.1814e-08 - recall: 1.0000\n",
      "Epoch 20: val_accuracy did not improve from 1.00000\n",
      "\u001b[1m226/226\u001b[0m \u001b[32m━━━━━━━━━━━━━━━━━━━━\u001b[0m\u001b[37m\u001b[0m \u001b[1m2s\u001b[0m 9ms/step - accuracy: 1.0000 - auc: 1.0000 - loss: 4.1791e-08 - recall: 1.0000 - val_accuracy: 1.0000 - val_auc: 1.0000 - val_loss: 5.8062e-08 - val_recall: 1.0000\n"
     ]
    }
   ],
   "source": [
    "history = model.fit(\n",
    "    X_train_dense, y_train_vector,\n",
    "    validation_split=0.2,\n",
    "    epochs=20,\n",
    "    batch_size=16,\n",
    "    verbose=1,\n",
    "    callbacks=[early_stop, model_ckpt, tensorboard_cb]\n",
    ")"
   ]
  },
  {
   "cell_type": "code",
   "execution_count": 18,
   "id": "4ef56a62",
   "metadata": {},
   "outputs": [
    {
     "name": "stdout",
     "output_type": "stream",
     "text": [
      "Epoch 1/20\n",
      "\u001b[1m274/282\u001b[0m \u001b[32m━━━━━━━━━━━━━━━━━━━\u001b[0m\u001b[37m━\u001b[0m \u001b[1m0s\u001b[0m 6ms/step - accuracy: 1.0000 - auc: 1.0000 - loss: 3.8734e-08 - recall: 1.0000\n",
      "Epoch 1: val_accuracy did not improve from 1.00000\n",
      "\u001b[1m282/282\u001b[0m \u001b[32m━━━━━━━━━━━━━━━━━━━━\u001b[0m\u001b[37m\u001b[0m \u001b[1m2s\u001b[0m 7ms/step - accuracy: 1.0000 - auc: 1.0000 - loss: 3.8735e-08 - recall: 1.0000 - val_accuracy: 0.7320 - val_auc: 0.6930 - val_loss: 0.8918 - val_recall: 0.2642\n",
      "Epoch 2/20\n",
      "\u001b[1m280/282\u001b[0m \u001b[32m━━━━━━━━━━━━━━━━━━━\u001b[0m\u001b[37m━\u001b[0m \u001b[1m0s\u001b[0m 7ms/step - accuracy: 1.0000 - auc: 1.0000 - loss: 3.4663e-08 - recall: 1.0000\n",
      "Epoch 2: val_accuracy did not improve from 1.00000\n",
      "\u001b[1m282/282\u001b[0m \u001b[32m━━━━━━━━━━━━━━━━━━━━\u001b[0m\u001b[37m\u001b[0m \u001b[1m3s\u001b[0m 9ms/step - accuracy: 1.0000 - auc: 1.0000 - loss: 3.4639e-08 - recall: 1.0000 - val_accuracy: 0.7329 - val_auc: 0.6929 - val_loss: 0.9022 - val_recall: 0.2575\n",
      "Epoch 3/20\n",
      "\u001b[1m271/282\u001b[0m \u001b[32m━━━━━━━━━━━━━━━━━━━\u001b[0m\u001b[37m━\u001b[0m \u001b[1m0s\u001b[0m 5ms/step - accuracy: 1.0000 - auc: 1.0000 - loss: 2.7525e-08 - recall: 1.0000\n",
      "Epoch 3: val_accuracy did not improve from 1.00000\n",
      "\u001b[1m282/282\u001b[0m \u001b[32m━━━━━━━━━━━━━━━━━━━━\u001b[0m\u001b[37m\u001b[0m \u001b[1m2s\u001b[0m 7ms/step - accuracy: 1.0000 - auc: 1.0000 - loss: 2.7517e-08 - recall: 1.0000 - val_accuracy: 0.7347 - val_auc: 0.6915 - val_loss: 0.9155 - val_recall: 0.2441\n",
      "Epoch 4/20\n",
      "\u001b[1m274/282\u001b[0m \u001b[32m━━━━━━━━━━━━━━━━━━━\u001b[0m\u001b[37m━\u001b[0m \u001b[1m0s\u001b[0m 6ms/step - accuracy: 1.0000 - auc: 1.0000 - loss: 2.1092e-08 - recall: 1.0000\n",
      "Epoch 4: val_accuracy did not improve from 1.00000\n",
      "\u001b[1m282/282\u001b[0m \u001b[32m━━━━━━━━━━━━━━━━━━━━\u001b[0m\u001b[37m\u001b[0m \u001b[1m2s\u001b[0m 9ms/step - accuracy: 1.0000 - auc: 1.0000 - loss: 2.1152e-08 - recall: 1.0000 - val_accuracy: 0.7365 - val_auc: 0.6906 - val_loss: 0.9250 - val_recall: 0.2475\n",
      "Epoch 5/20\n",
      "\u001b[1m280/282\u001b[0m \u001b[32m━━━━━━━━━━━━━━━━━━━\u001b[0m\u001b[37m━\u001b[0m \u001b[1m0s\u001b[0m 10ms/step - accuracy: 1.0000 - auc: 1.0000 - loss: 2.0027e-08 - recall: 1.0000\n",
      "Epoch 5: val_accuracy did not improve from 1.00000\n",
      "\u001b[1m282/282\u001b[0m \u001b[32m━━━━━━━━━━━━━━━━━━━━\u001b[0m\u001b[37m\u001b[0m \u001b[1m3s\u001b[0m 11ms/step - accuracy: 1.0000 - auc: 1.0000 - loss: 2.0022e-08 - recall: 1.0000 - val_accuracy: 0.7356 - val_auc: 0.6908 - val_loss: 0.9332 - val_recall: 0.2475\n",
      "Epoch 6/20\n",
      "\u001b[1m279/282\u001b[0m \u001b[32m━━━━━━━━━━━━━━━━━━━\u001b[0m\u001b[37m━\u001b[0m \u001b[1m0s\u001b[0m 7ms/step - accuracy: 1.0000 - auc: 1.0000 - loss: 1.7137e-08 - recall: 1.0000\n",
      "Epoch 6: val_accuracy did not improve from 1.00000\n",
      "\u001b[1m282/282\u001b[0m \u001b[32m━━━━━━━━━━━━━━━━━━━━\u001b[0m\u001b[37m\u001b[0m \u001b[1m2s\u001b[0m 9ms/step - accuracy: 1.0000 - auc: 1.0000 - loss: 1.7131e-08 - recall: 1.0000 - val_accuracy: 0.7356 - val_auc: 0.6883 - val_loss: 0.9411 - val_recall: 0.2508\n",
      "Epoch 7/20\n",
      "\u001b[1m273/282\u001b[0m \u001b[32m━━━━━━━━━━━━━━━━━━━\u001b[0m\u001b[37m━\u001b[0m \u001b[1m0s\u001b[0m 3ms/step - accuracy: 1.0000 - auc: 1.0000 - loss: 1.4159e-08 - recall: 1.0000\n",
      "Epoch 7: val_accuracy did not improve from 1.00000\n",
      "\u001b[1m282/282\u001b[0m \u001b[32m━━━━━━━━━━━━━━━━━━━━\u001b[0m\u001b[37m\u001b[0m \u001b[1m1s\u001b[0m 4ms/step - accuracy: 1.0000 - auc: 1.0000 - loss: 1.4163e-08 - recall: 1.0000 - val_accuracy: 0.7356 - val_auc: 0.6877 - val_loss: 0.9528 - val_recall: 0.2375\n",
      "Epoch 8/20\n",
      "\u001b[1m279/282\u001b[0m \u001b[32m━━━━━━━━━━━━━━━━━━━\u001b[0m\u001b[37m━\u001b[0m \u001b[1m0s\u001b[0m 7ms/step - accuracy: 1.0000 - auc: 1.0000 - loss: 1.2967e-08 - recall: 1.0000\n",
      "Epoch 8: val_accuracy did not improve from 1.00000\n",
      "\u001b[1m282/282\u001b[0m \u001b[32m━━━━━━━━━━━━━━━━━━━━\u001b[0m\u001b[37m\u001b[0m \u001b[1m2s\u001b[0m 8ms/step - accuracy: 1.0000 - auc: 1.0000 - loss: 1.2956e-08 - recall: 1.0000 - val_accuracy: 0.7365 - val_auc: 0.6866 - val_loss: 0.9572 - val_recall: 0.2475\n",
      "Epoch 9/20\n",
      "\u001b[1m279/282\u001b[0m \u001b[32m━━━━━━━━━━━━━━━━━━━\u001b[0m\u001b[37m━\u001b[0m \u001b[1m0s\u001b[0m 6ms/step - accuracy: 1.0000 - auc: 1.0000 - loss: 1.1131e-08 - recall: 1.0000\n",
      "Epoch 9: val_accuracy did not improve from 1.00000\n",
      "\u001b[1m282/282\u001b[0m \u001b[32m━━━━━━━━━━━━━━━━━━━━\u001b[0m\u001b[37m\u001b[0m \u001b[1m3s\u001b[0m 9ms/step - accuracy: 1.0000 - auc: 1.0000 - loss: 1.1121e-08 - recall: 1.0000 - val_accuracy: 0.7374 - val_auc: 0.6863 - val_loss: 0.9635 - val_recall: 0.2508\n",
      "Epoch 10/20\n",
      "\u001b[1m277/282\u001b[0m \u001b[32m━━━━━━━━━━━━━━━━━━━\u001b[0m\u001b[37m━\u001b[0m \u001b[1m0s\u001b[0m 7ms/step - accuracy: 1.0000 - auc: 1.0000 - loss: 8.9588e-09 - recall: 1.0000\n",
      "Epoch 10: val_accuracy did not improve from 1.00000\n",
      "\u001b[1m282/282\u001b[0m \u001b[32m━━━━━━━━━━━━━━━━━━━━\u001b[0m\u001b[37m\u001b[0m \u001b[1m3s\u001b[0m 9ms/step - accuracy: 1.0000 - auc: 1.0000 - loss: 8.9564e-09 - recall: 1.0000 - val_accuracy: 0.7365 - val_auc: 0.6872 - val_loss: 0.9765 - val_recall: 0.2375\n",
      "Epoch 11/20\n",
      "\u001b[1m276/282\u001b[0m \u001b[32m━━━━━━━━━━━━━━━━━━━\u001b[0m\u001b[37m━\u001b[0m \u001b[1m0s\u001b[0m 6ms/step - accuracy: 1.0000 - auc: 1.0000 - loss: 7.1050e-09 - recall: 1.0000\n",
      "Epoch 11: val_accuracy did not improve from 1.00000\n",
      "\u001b[1m282/282\u001b[0m \u001b[32m━━━━━━━━━━━━━━━━━━━━\u001b[0m\u001b[37m\u001b[0m \u001b[1m2s\u001b[0m 8ms/step - accuracy: 1.0000 - auc: 1.0000 - loss: 7.1189e-09 - recall: 1.0000 - val_accuracy: 0.7365 - val_auc: 0.6835 - val_loss: 0.9867 - val_recall: 0.2341\n",
      "Epoch 12/20\n",
      "\u001b[1m274/282\u001b[0m \u001b[32m━━━━━━━━━━━━━━━━━━━\u001b[0m\u001b[37m━\u001b[0m \u001b[1m0s\u001b[0m 5ms/step - accuracy: 1.0000 - auc: 1.0000 - loss: 6.6258e-09 - recall: 1.0000\n",
      "Epoch 12: val_accuracy did not improve from 1.00000\n",
      "\u001b[1m282/282\u001b[0m \u001b[32m━━━━━━━━━━━━━━━━━━━━\u001b[0m\u001b[37m\u001b[0m \u001b[1m2s\u001b[0m 7ms/step - accuracy: 1.0000 - auc: 1.0000 - loss: 6.6245e-09 - recall: 1.0000 - val_accuracy: 0.7365 - val_auc: 0.6825 - val_loss: 0.9884 - val_recall: 0.2441\n",
      "Epoch 13/20\n",
      "\u001b[1m272/282\u001b[0m \u001b[32m━━━━━━━━━━━━━━━━━━━\u001b[0m\u001b[37m━\u001b[0m \u001b[1m0s\u001b[0m 6ms/step - accuracy: 1.0000 - auc: 1.0000 - loss: 5.6274e-09 - recall: 1.0000\n",
      "Epoch 13: val_accuracy did not improve from 1.00000\n",
      "\u001b[1m282/282\u001b[0m \u001b[32m━━━━━━━━━━━━━━━━━━━━\u001b[0m\u001b[37m\u001b[0m \u001b[1m2s\u001b[0m 7ms/step - accuracy: 1.0000 - auc: 1.0000 - loss: 5.6293e-09 - recall: 1.0000 - val_accuracy: 0.7391 - val_auc: 0.6823 - val_loss: 0.9948 - val_recall: 0.2475\n",
      "Epoch 14/20\n",
      "\u001b[1m274/282\u001b[0m \u001b[32m━━━━━━━━━━━━━━━━━━━\u001b[0m\u001b[37m━\u001b[0m \u001b[1m0s\u001b[0m 5ms/step - accuracy: 1.0000 - auc: 1.0000 - loss: 5.2079e-09 - recall: 1.0000\n",
      "Epoch 14: val_accuracy did not improve from 1.00000\n",
      "\u001b[1m282/282\u001b[0m \u001b[32m━━━━━━━━━━━━━━━━━━━━\u001b[0m\u001b[37m\u001b[0m \u001b[1m2s\u001b[0m 7ms/step - accuracy: 1.0000 - auc: 1.0000 - loss: 5.1978e-09 - recall: 1.0000 - val_accuracy: 0.7391 - val_auc: 0.6806 - val_loss: 1.0051 - val_recall: 0.2375\n",
      "Epoch 15/20\n",
      "\u001b[1m281/282\u001b[0m \u001b[32m━━━━━━━━━━━━━━━━━━━\u001b[0m\u001b[37m━\u001b[0m \u001b[1m0s\u001b[0m 6ms/step - accuracy: 1.0000 - auc: 1.0000 - loss: 4.4089e-09 - recall: 1.0000\n",
      "Epoch 15: val_accuracy did not improve from 1.00000\n",
      "\u001b[1m282/282\u001b[0m \u001b[32m━━━━━━━━━━━━━━━━━━━━\u001b[0m\u001b[37m\u001b[0m \u001b[1m2s\u001b[0m 8ms/step - accuracy: 1.0000 - auc: 1.0000 - loss: 4.4076e-09 - recall: 1.0000 - val_accuracy: 0.7400 - val_auc: 0.6801 - val_loss: 1.0109 - val_recall: 0.2441\n",
      "Epoch 16/20\n",
      "\u001b[1m279/282\u001b[0m \u001b[32m━━━━━━━━━━━━━━━━━━━\u001b[0m\u001b[37m━\u001b[0m \u001b[1m0s\u001b[0m 5ms/step - accuracy: 1.0000 - auc: 1.0000 - loss: 3.6400e-09 - recall: 1.0000\n",
      "Epoch 16: val_accuracy did not improve from 1.00000\n",
      "\u001b[1m282/282\u001b[0m \u001b[32m━━━━━━━━━━━━━━━━━━━━\u001b[0m\u001b[37m\u001b[0m \u001b[1m2s\u001b[0m 8ms/step - accuracy: 1.0000 - auc: 1.0000 - loss: 3.6403e-09 - recall: 1.0000 - val_accuracy: 0.7400 - val_auc: 0.6778 - val_loss: 1.0202 - val_recall: 0.2375\n",
      "Epoch 17/20\n",
      "\u001b[1m280/282\u001b[0m \u001b[32m━━━━━━━━━━━━━━━━━━━\u001b[0m\u001b[37m━\u001b[0m \u001b[1m0s\u001b[0m 7ms/step - accuracy: 1.0000 - auc: 1.0000 - loss: 3.2523e-09 - recall: 1.0000\n",
      "Epoch 17: val_accuracy did not improve from 1.00000\n",
      "\u001b[1m282/282\u001b[0m \u001b[32m━━━━━━━━━━━━━━━━━━━━\u001b[0m\u001b[37m\u001b[0m \u001b[1m2s\u001b[0m 8ms/step - accuracy: 1.0000 - auc: 1.0000 - loss: 3.2516e-09 - recall: 1.0000 - val_accuracy: 0.7400 - val_auc: 0.6773 - val_loss: 1.0307 - val_recall: 0.2308\n",
      "Epoch 18/20\n",
      "\u001b[1m278/282\u001b[0m \u001b[32m━━━━━━━━━━━━━━━━━━━\u001b[0m\u001b[37m━\u001b[0m \u001b[1m0s\u001b[0m 6ms/step - accuracy: 1.0000 - auc: 1.0000 - loss: 2.7728e-09 - recall: 1.0000\n",
      "Epoch 18: val_accuracy did not improve from 1.00000\n",
      "\u001b[1m282/282\u001b[0m \u001b[32m━━━━━━━━━━━━━━━━━━━━\u001b[0m\u001b[37m\u001b[0m \u001b[1m2s\u001b[0m 8ms/step - accuracy: 1.0000 - auc: 1.0000 - loss: 2.7729e-09 - recall: 1.0000 - val_accuracy: 0.7374 - val_auc: 0.6776 - val_loss: 1.0395 - val_recall: 0.2174\n",
      "Epoch 19/20\n",
      "\u001b[1m282/282\u001b[0m \u001b[32m━━━━━━━━━━━━━━━━━━━━\u001b[0m\u001b[37m\u001b[0m \u001b[1m0s\u001b[0m 7ms/step - accuracy: 1.0000 - auc: 1.0000 - loss: 2.5577e-09 - recall: 1.0000\n",
      "Epoch 19: val_accuracy did not improve from 1.00000\n",
      "\u001b[1m282/282\u001b[0m \u001b[32m━━━━━━━━━━━━━━━━━━━━\u001b[0m\u001b[37m\u001b[0m \u001b[1m3s\u001b[0m 10ms/step - accuracy: 1.0000 - auc: 1.0000 - loss: 2.5574e-09 - recall: 1.0000 - val_accuracy: 0.7382 - val_auc: 0.6769 - val_loss: 1.0476 - val_recall: 0.2174\n",
      "Epoch 20/20\n",
      "\u001b[1m275/282\u001b[0m \u001b[32m━━━━━━━━━━━━━━━━━━━\u001b[0m\u001b[37m━\u001b[0m \u001b[1m0s\u001b[0m 9ms/step - accuracy: 1.0000 - auc: 1.0000 - loss: 2.2439e-09 - recall: 1.0000\n",
      "Epoch 20: val_accuracy did not improve from 1.00000\n",
      "\u001b[1m282/282\u001b[0m \u001b[32m━━━━━━━━━━━━━━━━━━━━\u001b[0m\u001b[37m\u001b[0m \u001b[1m3s\u001b[0m 12ms/step - accuracy: 1.0000 - auc: 1.0000 - loss: 2.2421e-09 - recall: 1.0000 - val_accuracy: 0.7391 - val_auc: 0.6770 - val_loss: 1.0623 - val_recall: 0.2107\n"
     ]
    }
   ],
   "source": [
    "history = model.fit(\n",
    "    X_train_dense, y_train_vector,\n",
    "    validation_data=(X_val_dense, y_val_vector),\n",
    "    epochs=20,\n",
    "    batch_size=16,\n",
    "    callbacks=[model_ckpt,tensorboard_cb],\n",
    "    verbose=1\n",
    ")"
   ]
  },
  {
   "cell_type": "code",
   "execution_count": 19,
   "id": "fa652db9",
   "metadata": {},
   "outputs": [
    {
     "data": {
      "text/plain": [
       "Reusing TensorBoard on port 6006 (pid 105293), started 16:52:35 ago. (Use '!kill 105293' to kill it.)"
      ]
     },
     "metadata": {},
     "output_type": "display_data"
    },
    {
     "data": {
      "text/html": [
       "\n",
       "      <iframe id=\"tensorboard-frame-a63ae172423f4ef0\" width=\"100%\" height=\"800\" frameborder=\"0\">\n",
       "      </iframe>\n",
       "      <script>\n",
       "        (function() {\n",
       "          const frame = document.getElementById(\"tensorboard-frame-a63ae172423f4ef0\");\n",
       "          const url = new URL(\"http://localhost\");\n",
       "          const port = 6006;\n",
       "          if (port) {\n",
       "            url.port = port;\n",
       "          }\n",
       "          frame.src = url;\n",
       "        })();\n",
       "      </script>\n",
       "    "
      ],
      "text/plain": [
       "<IPython.core.display.HTML object>"
      ]
     },
     "metadata": {},
     "output_type": "display_data"
    }
   ],
   "source": [
    "%tensorboard --logdir logs/fit"
   ]
  },
  {
   "cell_type": "code",
   "execution_count": 22,
   "id": "bbe1886e",
   "metadata": {},
   "outputs": [
    {
     "name": "stdout",
     "output_type": "stream",
     "text": [
      "[0 0 0 ... 0 0 0]\n"
     ]
    }
   ],
   "source": [
    "print(y_train_vector)"
   ]
  },
  {
   "cell_type": "code",
   "execution_count": 24,
   "id": "802884df",
   "metadata": {},
   "outputs": [
    {
     "name": "stdout",
     "output_type": "stream",
     "text": [
      "1196 299 374\n"
     ]
    }
   ],
   "source": [
    "x_train=0\n",
    "for i in y_train_vector:\n",
    "    if i == 1:\n",
    "        x_train+=1\n",
    "x_val=0\n",
    "for i in y_val_vector:\n",
    "    if i == 1:\n",
    "        x_val+=1\n",
    "\n",
    "x_test=0\n",
    "for i in y_test_vector:\n",
    "    if i == 1:\n",
    "        x_test+=1\n",
    "\n",
    "print(x_train, x_val, x_test)\n"
   ]
  },
  {
   "cell_type": "code",
   "execution_count": 30,
   "id": "1c46986e",
   "metadata": {},
   "outputs": [
    {
     "data": {
      "text/plain": [
       "(1127,)"
      ]
     },
     "execution_count": 30,
     "metadata": {},
     "output_type": "execute_result"
    }
   ],
   "source": [
    "y_val_vector.shape"
   ]
  },
  {
   "cell_type": "code",
   "execution_count": null,
   "id": "26bc8ea2",
   "metadata": {},
   "outputs": [],
   "source": []
  }
 ],
 "metadata": {
  "kernelspec": {
   "display_name": ".venv",
   "language": "python",
   "name": "python3"
  },
  "language_info": {
   "codemirror_mode": {
    "name": "ipython",
    "version": 3
   },
   "file_extension": ".py",
   "mimetype": "text/x-python",
   "name": "python",
   "nbconvert_exporter": "python",
   "pygments_lexer": "ipython3",
   "version": "3.12.3"
  }
 },
 "nbformat": 4,
 "nbformat_minor": 5
}
