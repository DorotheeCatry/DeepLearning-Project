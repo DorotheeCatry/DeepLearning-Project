{
 "cells": [
  {
   "cell_type": "code",
   "execution_count": 15,
   "id": "99350c16",
   "metadata": {},
   "outputs": [],
   "source": [
    "import pandas as pd\n",
    "import numpy as np\n",
    "import sys\n",
    "import os\n",
    "\n",
    "# Allows to get the module in utils\n",
    "sys.path.append(os.path.abspath(\"..\"))\n",
    "\n",
    "\n",
    "from utils.load import load_data\n",
    "from utils.preprocessing import preprocess\n",
    "from utils.split import split_data\n",
    "\n",
    "from sklearn.metrics import classification_report, confusion_matrix\n",
    "# from sklearn.preprocessing import StandardScaler\n",
    "# from sklearn.preprocessing import OneHotEncoder, StandardScaler, LabelEncoder\n",
    "# from sklearn.compose import ColumnTransformer\n",
    "\n",
    "import tensorflow as tf\n",
    "\n",
    "import seaborn as sns\n",
    "import matplotlib.pyplot as plt\n",
    "from sklearn.utils import class_weight\n",
    "\n",
    "import datetime"
   ]
  },
  {
   "cell_type": "code",
   "execution_count": 3,
   "id": "cd7d143f",
   "metadata": {},
   "outputs": [],
   "source": [
    "# Load data\n",
    "df = load_data()"
   ]
  },
  {
   "cell_type": "code",
   "execution_count": 4,
   "id": "d5f90814",
   "metadata": {},
   "outputs": [
    {
     "name": "stderr",
     "output_type": "stream",
     "text": [
      "/home/utilisateur/Documents/deeplearning_brief/DeepLearning-Project/.venv/lib/python3.12/site-packages/sklearn/preprocessing/_encoders.py:246: UserWarning: Found unknown categories in columns [0] during transform. These unknown categories will be encoded as all zeros\n",
      "  warnings.warn(\n",
      "/home/utilisateur/Documents/deeplearning_brief/DeepLearning-Project/.venv/lib/python3.12/site-packages/sklearn/preprocessing/_encoders.py:246: UserWarning: Found unknown categories in columns [0] during transform. These unknown categories will be encoded as all zeros\n",
      "  warnings.warn(\n"
     ]
    }
   ],
   "source": [
    "# Split and preprocess datas set\n",
    "X_train, X_val, X_test, y_train, y_val, y_test = split_data(df)\n",
    "\n",
    "X_train_processed, X_test_processed, X_val_processed, y_test_encoding, y_train_encoded, y_val_encoding, pipeline, le = preprocess(X_train, X_val, X_test, y_train, y_val, y_test)"
   ]
  },
  {
   "cell_type": "code",
   "execution_count": 5,
   "id": "5010af23",
   "metadata": {},
   "outputs": [],
   "source": [
    "X_train_dense = X_train_processed.toarray() if hasattr(X_train_processed, \"toarray\") else X_train_processed\n",
    "X_val_dense = X_val_processed.toarray() if hasattr(X_val_processed, \"toarray\") else X_val_processed\n",
    "X_test_dense = X_test_processed.toarray() if hasattr(X_test_processed, \"toarray\") else X_test_processed"
   ]
  },
  {
   "cell_type": "code",
   "execution_count": 6,
   "id": "4f40492f",
   "metadata": {},
   "outputs": [],
   "source": [
    "y_train_vector = y_train_encoded.reshape(-1)\n",
    "y_val_vector = y_val_encoding.reshape(-1)\n",
    "y_test_vector = y_test_encoding.reshape(-1)"
   ]
  },
  {
   "cell_type": "code",
   "execution_count": 7,
   "id": "6f5480bb",
   "metadata": {},
   "outputs": [
    {
     "name": "stderr",
     "output_type": "stream",
     "text": [
      "E0000 00:00:1747750532.673651  102028 cuda_executor.cc:1228] INTERNAL: CUDA Runtime error: Failed call to cudaGetRuntimeVersion: Error loading CUDA libraries. GPU will not be used.: Error loading CUDA libraries. GPU will not be used.\n",
      "W0000 00:00:1747750532.674138  102028 gpu_device.cc:2341] Cannot dlopen some GPU libraries. Please make sure the missing libraries mentioned above are installed properly if you would like to use GPU. Follow the guide at https://www.tensorflow.org/install/gpu for how to download and setup the required libraries for your platform.\n",
      "Skipping registering GPU devices...\n"
     ]
    },
    {
     "data": {
      "text/html": [
       "<pre style=\"white-space:pre;overflow-x:auto;line-height:normal;font-family:Menlo,'DejaVu Sans Mono',consolas,'Courier New',monospace\"><span style=\"font-weight: bold\">Model: \"sequential\"</span>\n",
       "</pre>\n"
      ],
      "text/plain": [
       "\u001b[1mModel: \"sequential\"\u001b[0m\n"
      ]
     },
     "metadata": {},
     "output_type": "display_data"
    },
    {
     "data": {
      "text/html": [
       "<pre style=\"white-space:pre;overflow-x:auto;line-height:normal;font-family:Menlo,'DejaVu Sans Mono',consolas,'Courier New',monospace\">┏━━━━━━━━━━━━━━━━━━━━━━━━━━━━━━━━━┳━━━━━━━━━━━━━━━━━━━━━━━━┳━━━━━━━━━━━━━━━┓\n",
       "┃<span style=\"font-weight: bold\"> Layer (type)                    </span>┃<span style=\"font-weight: bold\"> Output Shape           </span>┃<span style=\"font-weight: bold\">       Param # </span>┃\n",
       "┡━━━━━━━━━━━━━━━━━━━━━━━━━━━━━━━━━╇━━━━━━━━━━━━━━━━━━━━━━━━╇━━━━━━━━━━━━━━━┩\n",
       "│ dense (<span style=\"color: #0087ff; text-decoration-color: #0087ff\">Dense</span>)                   │ (<span style=\"color: #00d7ff; text-decoration-color: #00d7ff\">None</span>, <span style=\"color: #00af00; text-decoration-color: #00af00\">64</span>)             │       <span style=\"color: #00af00; text-decoration-color: #00af00\">290,368</span> │\n",
       "├─────────────────────────────────┼────────────────────────┼───────────────┤\n",
       "│ dense_1 (<span style=\"color: #0087ff; text-decoration-color: #0087ff\">Dense</span>)                 │ (<span style=\"color: #00d7ff; text-decoration-color: #00d7ff\">None</span>, <span style=\"color: #00af00; text-decoration-color: #00af00\">64</span>)             │         <span style=\"color: #00af00; text-decoration-color: #00af00\">4,160</span> │\n",
       "├─────────────────────────────────┼────────────────────────┼───────────────┤\n",
       "│ dense_2 (<span style=\"color: #0087ff; text-decoration-color: #0087ff\">Dense</span>)                 │ (<span style=\"color: #00d7ff; text-decoration-color: #00d7ff\">None</span>, <span style=\"color: #00af00; text-decoration-color: #00af00\">1</span>)              │            <span style=\"color: #00af00; text-decoration-color: #00af00\">65</span> │\n",
       "└─────────────────────────────────┴────────────────────────┴───────────────┘\n",
       "</pre>\n"
      ],
      "text/plain": [
       "┏━━━━━━━━━━━━━━━━━━━━━━━━━━━━━━━━━┳━━━━━━━━━━━━━━━━━━━━━━━━┳━━━━━━━━━━━━━━━┓\n",
       "┃\u001b[1m \u001b[0m\u001b[1mLayer (type)                   \u001b[0m\u001b[1m \u001b[0m┃\u001b[1m \u001b[0m\u001b[1mOutput Shape          \u001b[0m\u001b[1m \u001b[0m┃\u001b[1m \u001b[0m\u001b[1m      Param #\u001b[0m\u001b[1m \u001b[0m┃\n",
       "┡━━━━━━━━━━━━━━━━━━━━━━━━━━━━━━━━━╇━━━━━━━━━━━━━━━━━━━━━━━━╇━━━━━━━━━━━━━━━┩\n",
       "│ dense (\u001b[38;5;33mDense\u001b[0m)                   │ (\u001b[38;5;45mNone\u001b[0m, \u001b[38;5;34m64\u001b[0m)             │       \u001b[38;5;34m290,368\u001b[0m │\n",
       "├─────────────────────────────────┼────────────────────────┼───────────────┤\n",
       "│ dense_1 (\u001b[38;5;33mDense\u001b[0m)                 │ (\u001b[38;5;45mNone\u001b[0m, \u001b[38;5;34m64\u001b[0m)             │         \u001b[38;5;34m4,160\u001b[0m │\n",
       "├─────────────────────────────────┼────────────────────────┼───────────────┤\n",
       "│ dense_2 (\u001b[38;5;33mDense\u001b[0m)                 │ (\u001b[38;5;45mNone\u001b[0m, \u001b[38;5;34m1\u001b[0m)              │            \u001b[38;5;34m65\u001b[0m │\n",
       "└─────────────────────────────────┴────────────────────────┴───────────────┘\n"
      ]
     },
     "metadata": {},
     "output_type": "display_data"
    },
    {
     "data": {
      "text/html": [
       "<pre style=\"white-space:pre;overflow-x:auto;line-height:normal;font-family:Menlo,'DejaVu Sans Mono',consolas,'Courier New',monospace\"><span style=\"font-weight: bold\"> Total params: </span><span style=\"color: #00af00; text-decoration-color: #00af00\">294,593</span> (1.12 MB)\n",
       "</pre>\n"
      ],
      "text/plain": [
       "\u001b[1m Total params: \u001b[0m\u001b[38;5;34m294,593\u001b[0m (1.12 MB)\n"
      ]
     },
     "metadata": {},
     "output_type": "display_data"
    },
    {
     "data": {
      "text/html": [
       "<pre style=\"white-space:pre;overflow-x:auto;line-height:normal;font-family:Menlo,'DejaVu Sans Mono',consolas,'Courier New',monospace\"><span style=\"font-weight: bold\"> Trainable params: </span><span style=\"color: #00af00; text-decoration-color: #00af00\">294,593</span> (1.12 MB)\n",
       "</pre>\n"
      ],
      "text/plain": [
       "\u001b[1m Trainable params: \u001b[0m\u001b[38;5;34m294,593\u001b[0m (1.12 MB)\n"
      ]
     },
     "metadata": {},
     "output_type": "display_data"
    },
    {
     "data": {
      "text/html": [
       "<pre style=\"white-space:pre;overflow-x:auto;line-height:normal;font-family:Menlo,'DejaVu Sans Mono',consolas,'Courier New',monospace\"><span style=\"font-weight: bold\"> Non-trainable params: </span><span style=\"color: #00af00; text-decoration-color: #00af00\">0</span> (0.00 B)\n",
       "</pre>\n"
      ],
      "text/plain": [
       "\u001b[1m Non-trainable params: \u001b[0m\u001b[38;5;34m0\u001b[0m (0.00 B)\n"
      ]
     },
     "metadata": {},
     "output_type": "display_data"
    }
   ],
   "source": [
    "input_dim = X_train_dense.shape[1]\n",
    "\n",
    "model = tf.keras.Sequential([\n",
    "    tf.keras.layers.Input(shape=(input_dim,)),\n",
    "    tf.keras.layers.Dense(64, activation='relu'),\n",
    "    tf.keras.layers.Dense(64, activation='relu'),\n",
    "    tf.keras.layers.Dense(1, activation='sigmoid')\n",
    "])\n",
    "\n",
    "model.compile(\n",
    "    optimizer=tf.keras.optimizers.Adam(learning_rate=0.01),\n",
    "    loss='binary_crossentropy',\n",
    "    metrics=['accuracy', 'recall', 'auc']\n",
    ")\n",
    "\n",
    "model.summary()"
   ]
  },
  {
   "cell_type": "markdown",
   "id": "0a2644ac",
   "metadata": {},
   "source": [
    "### Exemple of checkpoints use\n",
    "\n",
    "model.compile(loss=..., optimizer=...,\n",
    "              metrics=['accuracy'])\n",
    "\n",
    "EPOCHS = 10\n",
    "checkpoint_filepath = '/tmp/ckpt/checkpoint.model.keras'\n",
    "model_checkpoint_callback = keras.callbacks.ModelCheckpoint(\n",
    "    filepath=checkpoint_filepath,\n",
    "    monitor='val_accuracy',\n",
    "    mode='max',\n",
    "    save_best_only=True)\n",
    "\n",
    "- Model is saved at the end of every epoch, if it's the best seen so far.\n",
    "model.fit(epochs=EPOCHS, callbacks=[model_checkpoint_callback])\n",
    "\n",
    "- The model (that are considered the best) can be loaded as -\n",
    "keras.models.load_model(checkpoint_filepath)\n",
    "\n",
    "- Alternatively, one could checkpoint just the model weights as -\n",
    "checkpoint_filepath = '/tmp/ckpt/checkpoint.weights.h5'\n",
    "model_checkpoint_callback = keras.callbacks.ModelCheckpoint(\n",
    "    filepath=checkpoint_filepath,\n",
    "    save_weights_only=True,\n",
    "    monitor='val_accuracy',\n",
    "    mode='max',\n",
    "    save_best_only=True)\n",
    "\n",
    "- Model weights are saved at the end of every epoch, if it's the best seen so far.\n",
    "model.fit(epochs=EPOCHS, callbacks=[model_checkpoint_callback])\n",
    "\n",
    "- The model weights (that are considered the best) can be loaded as -\n",
    "model.load_weights(checkpoint_filepath)\n"
   ]
  },
  {
   "cell_type": "code",
   "execution_count": null,
   "id": "b47a1e32",
   "metadata": {},
   "outputs": [],
   "source": [
    "checkpoint_path = \"checkpoints/churn_models.keras\"\n",
    "os.makedirs(os.path.dirname(checkpoint_path), exist_ok=True)\n",
    "model_ckpt = tf.keras.callbacks.ModelCheckpoint(\n",
    "    filepath=checkpoint_path,\n",
    "    monitor='val_accuracy',\n",
    "    mode='max'  \n",
    "    save_best_only=True,# sauvegarde le modèle qui maximise l’accuracy de validation\n",
    "    verbose=1\n",
    ")"
   ]
  },
  {
   "cell_type": "code",
   "execution_count": 9,
   "id": "aa14d11f",
   "metadata": {},
   "outputs": [
    {
     "name": "stdout",
     "output_type": "stream",
     "text": [
      "Epoch 1/20\n"
     ]
    },
    {
     "name": "stderr",
     "output_type": "stream",
     "text": [
      "2025-05-20 16:24:28.547307: W external/local_xla/xla/tsl/framework/cpu_allocator_impl.cc:83] Allocation of 81775008 exceeds 10% of free system memory.\n"
     ]
    },
    {
     "name": "stdout",
     "output_type": "stream",
     "text": [
      "\u001b[1m265/282\u001b[0m \u001b[32m━━━━━━━━━━━━━━━━━━\u001b[0m\u001b[37m━━\u001b[0m \u001b[1m0s\u001b[0m 2ms/step - accuracy: 0.7646 - auc: 0.7830 - loss: 0.4846 - recall: 0.4715\n",
      "Epoch 1: val_accuracy improved from -inf to 0.80390, saving model to checkpoints/churn_models.keras\n",
      "\u001b[1m282/282\u001b[0m \u001b[32m━━━━━━━━━━━━━━━━━━━━\u001b[0m\u001b[37m\u001b[0m \u001b[1m2s\u001b[0m 4ms/step - accuracy: 0.7660 - auc: 0.7852 - loss: 0.4823 - recall: 0.4725 - val_accuracy: 0.8039 - val_auc: 0.8375 - val_loss: 0.4370 - val_recall: 0.6120\n",
      "Epoch 2/20\n",
      "\u001b[1m278/282\u001b[0m \u001b[32m━━━━━━━━━━━━━━━━━━━\u001b[0m\u001b[37m━\u001b[0m \u001b[1m0s\u001b[0m 3ms/step - accuracy: 0.8461 - auc: 0.9006 - loss: 0.3429 - recall: 0.6430\n",
      "Epoch 2: val_accuracy did not improve from 0.80390\n",
      "\u001b[1m282/282\u001b[0m \u001b[32m━━━━━━━━━━━━━━━━━━━━\u001b[0m\u001b[37m\u001b[0m \u001b[1m1s\u001b[0m 3ms/step - accuracy: 0.8464 - auc: 0.9009 - loss: 0.3424 - recall: 0.6434 - val_accuracy: 0.7728 - val_auc: 0.7991 - val_loss: 0.5158 - val_recall: 0.3880\n",
      "Epoch 3/20\n",
      "\u001b[1m266/282\u001b[0m \u001b[32m━━━━━━━━━━━━━━━━━━\u001b[0m\u001b[37m━━\u001b[0m \u001b[1m0s\u001b[0m 2ms/step - accuracy: 0.9691 - auc: 0.9916 - loss: 0.0903 - recall: 0.9153\n",
      "Epoch 3: val_accuracy did not improve from 0.80390\n",
      "\u001b[1m282/282\u001b[0m \u001b[32m━━━━━━━━━━━━━━━━━━━━\u001b[0m\u001b[37m\u001b[0m \u001b[1m1s\u001b[0m 3ms/step - accuracy: 0.9698 - auc: 0.9919 - loss: 0.0886 - recall: 0.9173 - val_accuracy: 0.7453 - val_auc: 0.7912 - val_loss: 0.5998 - val_recall: 0.6789\n",
      "Epoch 4/20\n",
      "\u001b[1m278/282\u001b[0m \u001b[32m━━━━━━━━━━━━━━━━━━━\u001b[0m\u001b[37m━\u001b[0m \u001b[1m0s\u001b[0m 2ms/step - accuracy: 0.9988 - auc: 1.0000 - loss: 0.0031 - recall: 0.9957\n",
      "Epoch 4: val_accuracy did not improve from 0.80390\n",
      "\u001b[1m282/282\u001b[0m \u001b[32m━━━━━━━━━━━━━━━━━━━━\u001b[0m\u001b[37m\u001b[0m \u001b[1m1s\u001b[0m 3ms/step - accuracy: 0.9988 - auc: 1.0000 - loss: 0.0032 - recall: 0.9958 - val_accuracy: 0.7152 - val_auc: 0.4903 - val_loss: 1.5616 - val_recall: 0.0502\n",
      "Epoch 5/20\n",
      "\u001b[1m274/282\u001b[0m \u001b[32m━━━━━━━━━━━━━━━━━━━\u001b[0m\u001b[37m━\u001b[0m \u001b[1m0s\u001b[0m 2ms/step - accuracy: 0.9981 - auc: 0.9972 - loss: 0.0240 - recall: 0.9930\n",
      "Epoch 5: val_accuracy did not improve from 0.80390\n",
      "\u001b[1m282/282\u001b[0m \u001b[32m━━━━━━━━━━━━━━━━━━━━\u001b[0m\u001b[37m\u001b[0m \u001b[1m1s\u001b[0m 3ms/step - accuracy: 0.9981 - auc: 0.9972 - loss: 0.0235 - recall: 0.9931 - val_accuracy: 0.7294 - val_auc: 0.7382 - val_loss: 0.5890 - val_recall: 0.2575\n",
      "Epoch 6/20\n",
      "\u001b[1m275/282\u001b[0m \u001b[32m━━━━━━━━━━━━━━━━━━━\u001b[0m\u001b[37m━\u001b[0m \u001b[1m0s\u001b[0m 3ms/step - accuracy: 1.0000 - auc: 1.0000 - loss: 9.8786e-05 - recall: 1.0000\n",
      "Epoch 6: val_accuracy did not improve from 0.80390\n",
      "\u001b[1m282/282\u001b[0m \u001b[32m━━━━━━━━━━━━━━━━━━━━\u001b[0m\u001b[37m\u001b[0m \u001b[1m1s\u001b[0m 3ms/step - accuracy: 1.0000 - auc: 1.0000 - loss: 9.8403e-05 - recall: 1.0000 - val_accuracy: 0.7320 - val_auc: 0.7501 - val_loss: 0.5978 - val_recall: 0.2341\n",
      "Epoch 7/20\n",
      "\u001b[1m281/282\u001b[0m \u001b[32m━━━━━━━━━━━━━━━━━━━\u001b[0m\u001b[37m━\u001b[0m \u001b[1m0s\u001b[0m 3ms/step - accuracy: 1.0000 - auc: 1.0000 - loss: 5.1974e-05 - recall: 1.0000\n",
      "Epoch 7: val_accuracy did not improve from 0.80390\n",
      "\u001b[1m282/282\u001b[0m \u001b[32m━━━━━━━━━━━━━━━━━━━━\u001b[0m\u001b[37m\u001b[0m \u001b[1m1s\u001b[0m 3ms/step - accuracy: 1.0000 - auc: 1.0000 - loss: 5.1941e-05 - recall: 1.0000 - val_accuracy: 0.7374 - val_auc: 0.7560 - val_loss: 0.6068 - val_recall: 0.2274\n",
      "Epoch 8/20\n",
      "\u001b[1m270/282\u001b[0m \u001b[32m━━━━━━━━━━━━━━━━━━━\u001b[0m\u001b[37m━\u001b[0m \u001b[1m0s\u001b[0m 2ms/step - accuracy: 1.0000 - auc: 1.0000 - loss: 3.3385e-05 - recall: 1.0000\n",
      "Epoch 8: val_accuracy did not improve from 0.80390\n",
      "\u001b[1m282/282\u001b[0m \u001b[32m━━━━━━━━━━━━━━━━━━━━\u001b[0m\u001b[37m\u001b[0m \u001b[1m1s\u001b[0m 3ms/step - accuracy: 1.0000 - auc: 1.0000 - loss: 3.3316e-05 - recall: 1.0000 - val_accuracy: 0.7400 - val_auc: 0.7588 - val_loss: 0.6027 - val_recall: 0.2441\n",
      "Epoch 9/20\n",
      "\u001b[1m269/282\u001b[0m \u001b[32m━━━━━━━━━━━━━━━━━━━\u001b[0m\u001b[37m━\u001b[0m \u001b[1m0s\u001b[0m 2ms/step - accuracy: 1.0000 - auc: 1.0000 - loss: 2.3776e-05 - recall: 1.0000\n",
      "Epoch 9: val_accuracy did not improve from 0.80390\n",
      "\u001b[1m282/282\u001b[0m \u001b[32m━━━━━━━━━━━━━━━━━━━━\u001b[0m\u001b[37m\u001b[0m \u001b[1m1s\u001b[0m 3ms/step - accuracy: 1.0000 - auc: 1.0000 - loss: 2.3723e-05 - recall: 1.0000 - val_accuracy: 0.7391 - val_auc: 0.7620 - val_loss: 0.6032 - val_recall: 0.2475\n",
      "Epoch 10/20\n",
      "\u001b[1m267/282\u001b[0m \u001b[32m━━━━━━━━━━━━━━━━━━\u001b[0m\u001b[37m━━\u001b[0m \u001b[1m0s\u001b[0m 2ms/step - accuracy: 1.0000 - auc: 1.0000 - loss: 1.6590e-05 - recall: 1.0000\n",
      "Epoch 10: val_accuracy did not improve from 0.80390\n",
      "\u001b[1m282/282\u001b[0m \u001b[32m━━━━━━━━━━━━━━━━━━━━\u001b[0m\u001b[37m\u001b[0m \u001b[1m1s\u001b[0m 3ms/step - accuracy: 1.0000 - auc: 1.0000 - loss: 1.6617e-05 - recall: 1.0000 - val_accuracy: 0.7418 - val_auc: 0.7648 - val_loss: 0.5994 - val_recall: 0.2709\n",
      "Epoch 11/20\n",
      "\u001b[1m282/282\u001b[0m \u001b[32m━━━━━━━━━━━━━━━━━━━━\u001b[0m\u001b[37m\u001b[0m \u001b[1m0s\u001b[0m 3ms/step - accuracy: 1.0000 - auc: 0.9965 - loss: 1.2517e-05 - recall: 0.9965\n",
      "Epoch 11: val_accuracy did not improve from 0.80390\n",
      "\u001b[1m282/282\u001b[0m \u001b[32m━━━━━━━━━━━━━━━━━━━━\u001b[0m\u001b[37m\u001b[0m \u001b[1m1s\u001b[0m 3ms/step - accuracy: 1.0000 - auc: 0.9965 - loss: 1.2519e-05 - recall: 0.9965 - val_accuracy: 0.7400 - val_auc: 0.7656 - val_loss: 0.6003 - val_recall: 0.2709\n",
      "Epoch 12/20\n",
      "\u001b[1m274/282\u001b[0m \u001b[32m━━━━━━━━━━━━━━━━━━━\u001b[0m\u001b[37m━\u001b[0m \u001b[1m0s\u001b[0m 3ms/step - accuracy: 1.0000 - auc: 1.0000 - loss: 1.1536e-05 - recall: 1.0000\n",
      "Epoch 12: val_accuracy did not improve from 0.80390\n",
      "\u001b[1m282/282\u001b[0m \u001b[32m━━━━━━━━━━━━━━━━━━━━\u001b[0m\u001b[37m\u001b[0m \u001b[1m1s\u001b[0m 3ms/step - accuracy: 1.0000 - auc: 1.0000 - loss: 1.1495e-05 - recall: 1.0000 - val_accuracy: 0.7418 - val_auc: 0.7674 - val_loss: 0.5985 - val_recall: 0.2809\n",
      "Epoch 13/20\n",
      "\u001b[1m269/282\u001b[0m \u001b[32m━━━━━━━━━━━━━━━━━━━\u001b[0m\u001b[37m━\u001b[0m \u001b[1m0s\u001b[0m 2ms/step - accuracy: 1.0000 - auc: 1.0000 - loss: 7.8287e-06 - recall: 1.0000\n",
      "Epoch 13: val_accuracy did not improve from 0.80390\n",
      "\u001b[1m282/282\u001b[0m \u001b[32m━━━━━━━━━━━━━━━━━━━━\u001b[0m\u001b[37m\u001b[0m \u001b[1m1s\u001b[0m 3ms/step - accuracy: 1.0000 - auc: 1.0000 - loss: 7.8420e-06 - recall: 1.0000 - val_accuracy: 0.7436 - val_auc: 0.7684 - val_loss: 0.5975 - val_recall: 0.2876\n",
      "Epoch 14/20\n",
      "\u001b[1m267/282\u001b[0m \u001b[32m━━━━━━━━━━━━━━━━━━\u001b[0m\u001b[37m━━\u001b[0m \u001b[1m0s\u001b[0m 3ms/step - accuracy: 1.0000 - auc: 1.0000 - loss: 6.8469e-06 - recall: 1.0000\n",
      "Epoch 14: val_accuracy did not improve from 0.80390\n",
      "\u001b[1m282/282\u001b[0m \u001b[32m━━━━━━━━━━━━━━━━━━━━\u001b[0m\u001b[37m\u001b[0m \u001b[1m1s\u001b[0m 3ms/step - accuracy: 1.0000 - auc: 1.0000 - loss: 6.8341e-06 - recall: 1.0000 - val_accuracy: 0.7427 - val_auc: 0.7682 - val_loss: 0.5957 - val_recall: 0.2910\n",
      "Epoch 15/20\n",
      "\u001b[1m272/282\u001b[0m \u001b[32m━━━━━━━━━━━━━━━━━━━\u001b[0m\u001b[37m━\u001b[0m \u001b[1m0s\u001b[0m 2ms/step - accuracy: 1.0000 - auc: 1.0000 - loss: 5.6857e-06 - recall: 1.0000\n",
      "Epoch 15: val_accuracy did not improve from 0.80390\n",
      "\u001b[1m282/282\u001b[0m \u001b[32m━━━━━━━━━━━━━━━━━━━━\u001b[0m\u001b[37m\u001b[0m \u001b[1m1s\u001b[0m 3ms/step - accuracy: 1.0000 - auc: 1.0000 - loss: 5.6750e-06 - recall: 1.0000 - val_accuracy: 0.7436 - val_auc: 0.7693 - val_loss: 0.5963 - val_recall: 0.2977\n",
      "Epoch 16/20\n",
      "\u001b[1m276/282\u001b[0m \u001b[32m━━━━━━━━━━━━━━━━━━━\u001b[0m\u001b[37m━\u001b[0m \u001b[1m0s\u001b[0m 3ms/step - accuracy: 1.0000 - auc: 1.0000 - loss: 4.7206e-06 - recall: 1.0000\n",
      "Epoch 16: val_accuracy did not improve from 0.80390\n",
      "\u001b[1m282/282\u001b[0m \u001b[32m━━━━━━━━━━━━━━━━━━━━\u001b[0m\u001b[37m\u001b[0m \u001b[1m1s\u001b[0m 3ms/step - accuracy: 1.0000 - auc: 1.0000 - loss: 4.7136e-06 - recall: 1.0000 - val_accuracy: 0.7453 - val_auc: 0.7704 - val_loss: 0.5971 - val_recall: 0.3010\n",
      "Epoch 17/20\n",
      "\u001b[1m273/282\u001b[0m \u001b[32m━━━━━━━━━━━━━━━━━━━\u001b[0m\u001b[37m━\u001b[0m \u001b[1m0s\u001b[0m 2ms/step - accuracy: 1.0000 - auc: 1.0000 - loss: 3.6653e-06 - recall: 1.0000\n",
      "Epoch 17: val_accuracy did not improve from 0.80390\n",
      "\u001b[1m282/282\u001b[0m \u001b[32m━━━━━━━━━━━━━━━━━━━━\u001b[0m\u001b[37m\u001b[0m \u001b[1m1s\u001b[0m 3ms/step - accuracy: 1.0000 - auc: 1.0000 - loss: 3.6652e-06 - recall: 1.0000 - val_accuracy: 0.7445 - val_auc: 0.7717 - val_loss: 0.5968 - val_recall: 0.3010\n",
      "Epoch 18/20\n",
      "\u001b[1m263/282\u001b[0m \u001b[32m━━━━━━━━━━━━━━━━━━\u001b[0m\u001b[37m━━\u001b[0m \u001b[1m0s\u001b[0m 3ms/step - accuracy: 1.0000 - auc: 1.0000 - loss: 3.1116e-06 - recall: 1.0000\n",
      "Epoch 18: val_accuracy did not improve from 0.80390\n",
      "\u001b[1m282/282\u001b[0m \u001b[32m━━━━━━━━━━━━━━━━━━━━\u001b[0m\u001b[37m\u001b[0m \u001b[1m1s\u001b[0m 3ms/step - accuracy: 1.0000 - auc: 1.0000 - loss: 3.1073e-06 - recall: 1.0000 - val_accuracy: 0.7471 - val_auc: 0.7722 - val_loss: 0.5963 - val_recall: 0.3177\n",
      "Epoch 19/20\n",
      "\u001b[1m264/282\u001b[0m \u001b[32m━━━━━━━━━━━━━━━━━━\u001b[0m\u001b[37m━━\u001b[0m \u001b[1m0s\u001b[0m 3ms/step - accuracy: 1.0000 - auc: 1.0000 - loss: 2.6073e-06 - recall: 1.0000\n",
      "Epoch 19: val_accuracy did not improve from 0.80390\n",
      "\u001b[1m282/282\u001b[0m \u001b[32m━━━━━━━━━━━━━━━━━━━━\u001b[0m\u001b[37m\u001b[0m \u001b[1m1s\u001b[0m 3ms/step - accuracy: 1.0000 - auc: 1.0000 - loss: 2.6025e-06 - recall: 1.0000 - val_accuracy: 0.7480 - val_auc: 0.7731 - val_loss: 0.5949 - val_recall: 0.3344\n",
      "Epoch 20/20\n",
      "\u001b[1m262/282\u001b[0m \u001b[32m━━━━━━━━━━━━━━━━━━\u001b[0m\u001b[37m━━\u001b[0m \u001b[1m0s\u001b[0m 3ms/step - accuracy: 1.0000 - auc: 1.0000 - loss: 2.3137e-06 - recall: 1.0000\n",
      "Epoch 20: val_accuracy did not improve from 0.80390\n",
      "\u001b[1m282/282\u001b[0m \u001b[32m━━━━━━━━━━━━━━━━━━━━\u001b[0m\u001b[37m\u001b[0m \u001b[1m1s\u001b[0m 3ms/step - accuracy: 1.0000 - auc: 1.0000 - loss: 2.2969e-06 - recall: 1.0000 - val_accuracy: 0.7489 - val_auc: 0.7739 - val_loss: 0.5958 - val_recall: 0.3378\n"
     ]
    }
   ],
   "source": [
    "history = model.fit(\n",
    "    X_train_dense, y_train_vector,\n",
    "    validation_data=(X_val_dense, y_val_vector),\n",
    "    epochs=20,\n",
    "    batch_size=16,\n",
    "    callbacks=[model_ckpt],\n",
    "    verbose=1\n",
    ")"
   ]
  },
  {
   "cell_type": "code",
   "execution_count": 10,
   "id": "0c10f9ef",
   "metadata": {},
   "outputs": [
    {
     "name": "stdout",
     "output_type": "stream",
     "text": [
      "\u001b[1m45/45\u001b[0m \u001b[32m━━━━━━━━━━━━━━━━━━━━\u001b[0m\u001b[37m\u001b[0m \u001b[1m0s\u001b[0m 1ms/step\n",
      "\n",
      "Classification Report :\n",
      "              precision    recall  f1-score   support\n",
      "\n",
      "           0       0.73      1.00      0.85      1035\n",
      "           1       0.00      0.00      0.00       374\n",
      "\n",
      "    accuracy                           0.73      1409\n",
      "   macro avg       0.37      0.50      0.42      1409\n",
      "weighted avg       0.54      0.73      0.62      1409\n",
      "\n"
     ]
    },
    {
     "name": "stderr",
     "output_type": "stream",
     "text": [
      "2025-05-20 16:25:02.922429: W external/local_xla/xla/tsl/framework/cpu_allocator_impl.cc:83] Allocation of 25564896 exceeds 10% of free system memory.\n",
      "/home/utilisateur/Documents/deeplearning_brief/DeepLearning-Project/.venv/lib/python3.12/site-packages/sklearn/metrics/_classification.py:1565: UndefinedMetricWarning: Precision is ill-defined and being set to 0.0 in labels with no predicted samples. Use `zero_division` parameter to control this behavior.\n",
      "  _warn_prf(average, modifier, f\"{metric.capitalize()} is\", len(result))\n",
      "/home/utilisateur/Documents/deeplearning_brief/DeepLearning-Project/.venv/lib/python3.12/site-packages/sklearn/metrics/_classification.py:1565: UndefinedMetricWarning: Precision is ill-defined and being set to 0.0 in labels with no predicted samples. Use `zero_division` parameter to control this behavior.\n",
      "  _warn_prf(average, modifier, f\"{metric.capitalize()} is\", len(result))\n",
      "/home/utilisateur/Documents/deeplearning_brief/DeepLearning-Project/.venv/lib/python3.12/site-packages/sklearn/metrics/_classification.py:1565: UndefinedMetricWarning: Precision is ill-defined and being set to 0.0 in labels with no predicted samples. Use `zero_division` parameter to control this behavior.\n",
      "  _warn_prf(average, modifier, f\"{metric.capitalize()} is\", len(result))\n"
     ]
    }
   ],
   "source": [
    "y_pred_probs = model.predict(X_test_dense)\n",
    "y_pred = np.argmax(y_pred_probs, axis=1)\n",
    "print(\"\\nClassification Report :\")\n",
    "print(classification_report(y_test_vector, y_pred))"
   ]
  },
  {
   "cell_type": "code",
   "execution_count": 11,
   "id": "c6f14ffb",
   "metadata": {},
   "outputs": [
    {
     "name": "stdout",
     "output_type": "stream",
     "text": [
      "Matrice de Confusion :\n",
      "[[1035    0]\n",
      " [ 374    0]]\n"
     ]
    }
   ],
   "source": [
    "print(\"Matrice de Confusion :\")\n",
    "cm = confusion_matrix(y_test_vector, y_pred)\n",
    "print(cm)"
   ]
  },
  {
   "cell_type": "code",
   "execution_count": 12,
   "id": "7abbb99e",
   "metadata": {},
   "outputs": [
    {
     "name": "stdout",
     "output_type": "stream",
     "text": [
      "\u001b[1m45/45\u001b[0m \u001b[32m━━━━━━━━━━━━━━━━━━━━\u001b[0m\u001b[37m\u001b[0m \u001b[1m0s\u001b[0m 2ms/step\n",
      "\n",
      "Classification Report :\n",
      "              precision    recall  f1-score   support\n",
      "\n",
      "           0       0.80      0.90      0.84      1035\n",
      "           1       0.57      0.36      0.44       374\n",
      "\n",
      "    accuracy                           0.76      1409\n",
      "   macro avg       0.68      0.63      0.64      1409\n",
      "weighted avg       0.74      0.76      0.74      1409\n",
      "\n"
     ]
    },
    {
     "name": "stderr",
     "output_type": "stream",
     "text": [
      "2025-05-20 16:25:05.717865: W external/local_xla/xla/tsl/framework/cpu_allocator_impl.cc:83] Allocation of 25564896 exceeds 10% of free system memory.\n"
     ]
    },
    {
     "data": {
      "text/plain": [
       "((1409,), (1409, 1))"
      ]
     },
     "execution_count": 12,
     "metadata": {},
     "output_type": "execute_result"
    }
   ],
   "source": [
    "y_pred_probs = model.predict(X_test_dense)\n",
    "\n",
    "probs = y_pred_probs.ravel()\n",
    "\n",
    "y_pred = (probs >= 0.5)\n",
    "print(\"\\nClassification Report :\")\n",
    "print(classification_report(y_test_vector, y_pred))\n",
    "y_test_vector.shape, y_pred_probs.shape"
   ]
  },
  {
   "cell_type": "code",
   "execution_count": 13,
   "id": "d64f9031",
   "metadata": {},
   "outputs": [],
   "source": [
    "%load_ext tensorboard"
   ]
  },
  {
   "cell_type": "code",
   "execution_count": 17,
   "id": "d309e702",
   "metadata": {},
   "outputs": [],
   "source": [
    "early_stop = tf.keras.callbacks.EarlyStopping(\n",
    "    monitor='val_loss',    # surveille la perte de validation\n",
    "    patience=3,            # tolère 3 époques sans amélioration\n",
    "    restore_best_weights=True\n",
    ")"
   ]
  },
  {
   "cell_type": "code",
   "execution_count": 18,
   "id": "ebdda1b3",
   "metadata": {},
   "outputs": [],
   "source": [
    "log_dir = os.path.join(\n",
    "    \"logs\", \"fit\", datetime.datetime.now().strftime(\"%Y%m%d-%H%M%S\")\n",
    ")\n",
    "tensorboard_cb = tf.keras.callbacks.TensorBoard(\n",
    "    log_dir=log_dir,\n",
    "    histogram_freq=1,       # enregistre les histogrammes de poids chaque époque\n",
    "    write_graph=True,       # sauvegarde le graph du modèle\n",
    "    write_images=True\n",
    ")"
   ]
  },
  {
   "cell_type": "code",
   "execution_count": 23,
   "id": "cf717bed",
   "metadata": {},
   "outputs": [
    {
     "name": "stdout",
     "output_type": "stream",
     "text": [
      "Epoch 1/20\n",
      "\u001b[1m214/226\u001b[0m \u001b[32m━━━━━━━━━━━━━━━━━━\u001b[0m\u001b[37m━━\u001b[0m \u001b[1m0s\u001b[0m 3ms/step - accuracy: 1.0000 - auc: 1.0000 - loss: 1.3942e-07 - recall: 1.0000\n",
      "Epoch 1: val_accuracy did not improve from 1.00000\n",
      "\u001b[1m226/226\u001b[0m \u001b[32m━━━━━━━━━━━━━━━━━━━━\u001b[0m\u001b[37m\u001b[0m \u001b[1m1s\u001b[0m 4ms/step - accuracy: 1.0000 - auc: 1.0000 - loss: 1.3927e-07 - recall: 1.0000 - val_accuracy: 1.0000 - val_auc: 1.0000 - val_loss: 2.0340e-07 - val_recall: 1.0000\n",
      "Epoch 2/20\n",
      "\u001b[1m217/226\u001b[0m \u001b[32m━━━━━━━━━━━━━━━━━━━\u001b[0m\u001b[37m━\u001b[0m \u001b[1m0s\u001b[0m 3ms/step - accuracy: 1.0000 - auc: 1.0000 - loss: 1.2080e-07 - recall: 1.0000\n",
      "Epoch 2: val_accuracy did not improve from 1.00000\n",
      "\u001b[1m226/226\u001b[0m \u001b[32m━━━━━━━━━━━━━━━━━━━━\u001b[0m\u001b[37m\u001b[0m \u001b[1m1s\u001b[0m 5ms/step - accuracy: 1.0000 - auc: 1.0000 - loss: 1.2082e-07 - recall: 1.0000 - val_accuracy: 1.0000 - val_auc: 1.0000 - val_loss: 1.8633e-07 - val_recall: 1.0000\n",
      "Epoch 3/20\n",
      "\u001b[1m214/226\u001b[0m \u001b[32m━━━━━━━━━━━━━━━━━━\u001b[0m\u001b[37m━━\u001b[0m \u001b[1m0s\u001b[0m 3ms/step - accuracy: 1.0000 - auc: 1.0000 - loss: 1.0512e-07 - recall: 1.0000\n",
      "Epoch 3: val_accuracy did not improve from 1.00000\n",
      "\u001b[1m226/226\u001b[0m \u001b[32m━━━━━━━━━━━━━━━━━━━━\u001b[0m\u001b[37m\u001b[0m \u001b[1m1s\u001b[0m 5ms/step - accuracy: 1.0000 - auc: 1.0000 - loss: 1.0522e-07 - recall: 1.0000 - val_accuracy: 1.0000 - val_auc: 1.0000 - val_loss: 1.7119e-07 - val_recall: 1.0000\n",
      "Epoch 4/20\n",
      "\u001b[1m224/226\u001b[0m \u001b[32m━━━━━━━━━━━━━━━━━━━\u001b[0m\u001b[37m━\u001b[0m \u001b[1m0s\u001b[0m 4ms/step - accuracy: 1.0000 - auc: 1.0000 - loss: 9.6548e-08 - recall: 1.0000\n",
      "Epoch 4: val_accuracy did not improve from 1.00000\n",
      "\u001b[1m226/226\u001b[0m \u001b[32m━━━━━━━━━━━━━━━━━━━━\u001b[0m\u001b[37m\u001b[0m \u001b[1m1s\u001b[0m 6ms/step - accuracy: 1.0000 - auc: 1.0000 - loss: 9.6520e-08 - recall: 1.0000 - val_accuracy: 1.0000 - val_auc: 1.0000 - val_loss: 1.5717e-07 - val_recall: 1.0000\n",
      "Epoch 5/20\n",
      "\u001b[1m221/226\u001b[0m \u001b[32m━━━━━━━━━━━━━━━━━━━\u001b[0m\u001b[37m━\u001b[0m \u001b[1m0s\u001b[0m 7ms/step - accuracy: 1.0000 - auc: 1.0000 - loss: 7.9378e-08 - recall: 1.0000\n",
      "Epoch 5: val_accuracy did not improve from 1.00000\n",
      "\u001b[1m226/226\u001b[0m \u001b[32m━━━━━━━━━━━━━━━━━━━━\u001b[0m\u001b[37m\u001b[0m \u001b[1m2s\u001b[0m 8ms/step - accuracy: 1.0000 - auc: 1.0000 - loss: 7.9496e-08 - recall: 1.0000 - val_accuracy: 1.0000 - val_auc: 1.0000 - val_loss: 1.4398e-07 - val_recall: 1.0000\n",
      "Epoch 6/20\n",
      "\u001b[1m219/226\u001b[0m \u001b[32m━━━━━━━━━━━━━━━━━━━\u001b[0m\u001b[37m━\u001b[0m \u001b[1m0s\u001b[0m 9ms/step - accuracy: 1.0000 - auc: 1.0000 - loss: 7.9071e-08 - recall: 1.0000\n",
      "Epoch 6: val_accuracy did not improve from 1.00000\n",
      "\u001b[1m226/226\u001b[0m \u001b[32m━━━━━━━━━━━━━━━━━━━━\u001b[0m\u001b[37m\u001b[0m \u001b[1m2s\u001b[0m 11ms/step - accuracy: 1.0000 - auc: 1.0000 - loss: 7.8905e-08 - recall: 1.0000 - val_accuracy: 1.0000 - val_auc: 1.0000 - val_loss: 1.3204e-07 - val_recall: 1.0000\n",
      "Epoch 7/20\n",
      "\u001b[1m224/226\u001b[0m \u001b[32m━━━━━━━━━━━━━━━━━━━\u001b[0m\u001b[37m━\u001b[0m \u001b[1m0s\u001b[0m 3ms/step - accuracy: 1.0000 - auc: 1.0000 - loss: 7.2535e-08 - recall: 1.0000\n",
      "Epoch 7: val_accuracy did not improve from 1.00000\n",
      "\u001b[1m226/226\u001b[0m \u001b[32m━━━━━━━━━━━━━━━━━━━━\u001b[0m\u001b[37m\u001b[0m \u001b[1m1s\u001b[0m 6ms/step - accuracy: 1.0000 - auc: 1.0000 - loss: 7.2447e-08 - recall: 1.0000 - val_accuracy: 1.0000 - val_auc: 1.0000 - val_loss: 1.2115e-07 - val_recall: 1.0000\n",
      "Epoch 8/20\n",
      "\u001b[1m214/226\u001b[0m \u001b[32m━━━━━━━━━━━━━━━━━━\u001b[0m\u001b[37m━━\u001b[0m \u001b[1m0s\u001b[0m 3ms/step - accuracy: 1.0000 - auc: 1.0000 - loss: 6.3568e-08 - recall: 1.0000\n",
      "Epoch 8: val_accuracy did not improve from 1.00000\n",
      "\u001b[1m226/226\u001b[0m \u001b[32m━━━━━━━━━━━━━━━━━━━━\u001b[0m\u001b[37m\u001b[0m \u001b[1m1s\u001b[0m 4ms/step - accuracy: 1.0000 - auc: 1.0000 - loss: 6.3280e-08 - recall: 1.0000 - val_accuracy: 1.0000 - val_auc: 1.0000 - val_loss: 1.1135e-07 - val_recall: 1.0000\n",
      "Epoch 9/20\n",
      "\u001b[1m223/226\u001b[0m \u001b[32m━━━━━━━━━━━━━━━━━━━\u001b[0m\u001b[37m━\u001b[0m \u001b[1m0s\u001b[0m 5ms/step - accuracy: 1.0000 - auc: 1.0000 - loss: 5.3421e-08 - recall: 1.0000\n",
      "Epoch 9: val_accuracy did not improve from 1.00000\n",
      "\u001b[1m226/226\u001b[0m \u001b[32m━━━━━━━━━━━━━━━━━━━━\u001b[0m\u001b[37m\u001b[0m \u001b[1m2s\u001b[0m 7ms/step - accuracy: 1.0000 - auc: 1.0000 - loss: 5.3395e-08 - recall: 1.0000 - val_accuracy: 1.0000 - val_auc: 1.0000 - val_loss: 1.0270e-07 - val_recall: 1.0000\n",
      "Epoch 10/20\n",
      "\u001b[1m223/226\u001b[0m \u001b[32m━━━━━━━━━━━━━━━━━━━\u001b[0m\u001b[37m━\u001b[0m \u001b[1m0s\u001b[0m 6ms/step - accuracy: 1.0000 - auc: 1.0000 - loss: 5.0881e-08 - recall: 1.0000\n",
      "Epoch 10: val_accuracy did not improve from 1.00000\n",
      "\u001b[1m226/226\u001b[0m \u001b[32m━━━━━━━━━━━━━━━━━━━━\u001b[0m\u001b[37m\u001b[0m \u001b[1m2s\u001b[0m 10ms/step - accuracy: 1.0000 - auc: 1.0000 - loss: 5.0798e-08 - recall: 1.0000 - val_accuracy: 1.0000 - val_auc: 1.0000 - val_loss: 9.4254e-08 - val_recall: 1.0000\n",
      "Epoch 11/20\n",
      "\u001b[1m214/226\u001b[0m \u001b[32m━━━━━━━━━━━━━━━━━━\u001b[0m\u001b[37m━━\u001b[0m \u001b[1m0s\u001b[0m 3ms/step - accuracy: 1.0000 - auc: 1.0000 - loss: 4.6220e-08 - recall: 1.0000\n",
      "Epoch 11: val_accuracy did not improve from 1.00000\n",
      "\u001b[1m226/226\u001b[0m \u001b[32m━━━━━━━━━━━━━━━━━━━━\u001b[0m\u001b[37m\u001b[0m \u001b[1m1s\u001b[0m 6ms/step - accuracy: 1.0000 - auc: 1.0000 - loss: 4.5932e-08 - recall: 1.0000 - val_accuracy: 1.0000 - val_auc: 1.0000 - val_loss: 8.7140e-08 - val_recall: 1.0000\n",
      "Epoch 12/20\n",
      "\u001b[1m222/226\u001b[0m \u001b[32m━━━━━━━━━━━━━━━━━━━\u001b[0m\u001b[37m━\u001b[0m \u001b[1m0s\u001b[0m 6ms/step - accuracy: 1.0000 - auc: 1.0000 - loss: 3.7638e-08 - recall: 1.0000\n",
      "Epoch 12: val_accuracy did not improve from 1.00000\n",
      "\u001b[1m226/226\u001b[0m \u001b[32m━━━━━━━━━━━━━━━━━━━━\u001b[0m\u001b[37m\u001b[0m \u001b[1m2s\u001b[0m 9ms/step - accuracy: 1.0000 - auc: 1.0000 - loss: 3.7609e-08 - recall: 1.0000 - val_accuracy: 1.0000 - val_auc: 1.0000 - val_loss: 8.0243e-08 - val_recall: 1.0000\n",
      "Epoch 13/20\n",
      "\u001b[1m220/226\u001b[0m \u001b[32m━━━━━━━━━━━━━━━━━━━\u001b[0m\u001b[37m━\u001b[0m \u001b[1m0s\u001b[0m 4ms/step - accuracy: 1.0000 - auc: 1.0000 - loss: 3.3021e-08 - recall: 1.0000\n",
      "Epoch 13: val_accuracy did not improve from 1.00000\n",
      "\u001b[1m226/226\u001b[0m \u001b[32m━━━━━━━━━━━━━━━━━━━━\u001b[0m\u001b[37m\u001b[0m \u001b[1m1s\u001b[0m 6ms/step - accuracy: 1.0000 - auc: 1.0000 - loss: 3.2992e-08 - recall: 1.0000 - val_accuracy: 1.0000 - val_auc: 1.0000 - val_loss: 7.4199e-08 - val_recall: 1.0000\n",
      "Epoch 14/20\n",
      "\u001b[1m219/226\u001b[0m \u001b[32m━━━━━━━━━━━━━━━━━━━\u001b[0m\u001b[37m━\u001b[0m \u001b[1m0s\u001b[0m 3ms/step - accuracy: 1.0000 - auc: 1.0000 - loss: 2.7499e-08 - recall: 1.0000\n",
      "Epoch 14: val_accuracy did not improve from 1.00000\n",
      "\u001b[1m226/226\u001b[0m \u001b[32m━━━━━━━━━━━━━━━━━━━━\u001b[0m\u001b[37m\u001b[0m \u001b[1m1s\u001b[0m 4ms/step - accuracy: 1.0000 - auc: 1.0000 - loss: 2.7531e-08 - recall: 1.0000 - val_accuracy: 1.0000 - val_auc: 1.0000 - val_loss: 6.8555e-08 - val_recall: 1.0000\n",
      "Epoch 15/20\n",
      "\u001b[1m223/226\u001b[0m \u001b[32m━━━━━━━━━━━━━━━━━━━\u001b[0m\u001b[37m━\u001b[0m \u001b[1m0s\u001b[0m 4ms/step - accuracy: 1.0000 - auc: 1.0000 - loss: 2.6123e-08 - recall: 1.0000\n",
      "Epoch 15: val_accuracy did not improve from 1.00000\n",
      "\u001b[1m226/226\u001b[0m \u001b[32m━━━━━━━━━━━━━━━━━━━━\u001b[0m\u001b[37m\u001b[0m \u001b[1m1s\u001b[0m 6ms/step - accuracy: 1.0000 - auc: 1.0000 - loss: 2.6109e-08 - recall: 1.0000 - val_accuracy: 1.0000 - val_auc: 1.0000 - val_loss: 6.3041e-08 - val_recall: 1.0000\n",
      "Epoch 16/20\n",
      "\u001b[1m218/226\u001b[0m \u001b[32m━━━━━━━━━━━━━━━━━━━\u001b[0m\u001b[37m━\u001b[0m \u001b[1m0s\u001b[0m 4ms/step - accuracy: 1.0000 - auc: 1.0000 - loss: 2.3181e-08 - recall: 1.0000\n",
      "Epoch 16: val_accuracy did not improve from 1.00000\n",
      "\u001b[1m226/226\u001b[0m \u001b[32m━━━━━━━━━━━━━━━━━━━━\u001b[0m\u001b[37m\u001b[0m \u001b[1m1s\u001b[0m 6ms/step - accuracy: 1.0000 - auc: 1.0000 - loss: 2.3152e-08 - recall: 1.0000 - val_accuracy: 1.0000 - val_auc: 1.0000 - val_loss: 5.8660e-08 - val_recall: 1.0000\n",
      "Epoch 17/20\n",
      "\u001b[1m218/226\u001b[0m \u001b[32m━━━━━━━━━━━━━━━━━━━\u001b[0m\u001b[37m━\u001b[0m \u001b[1m0s\u001b[0m 3ms/step - accuracy: 1.0000 - auc: 1.0000 - loss: 2.0180e-08 - recall: 1.0000\n",
      "Epoch 17: val_accuracy did not improve from 1.00000\n",
      "\u001b[1m226/226\u001b[0m \u001b[32m━━━━━━━━━━━━━━━━━━━━\u001b[0m\u001b[37m\u001b[0m \u001b[1m1s\u001b[0m 5ms/step - accuracy: 1.0000 - auc: 1.0000 - loss: 2.0176e-08 - recall: 1.0000 - val_accuracy: 1.0000 - val_auc: 1.0000 - val_loss: 5.3878e-08 - val_recall: 1.0000\n",
      "Epoch 18/20\n",
      "\u001b[1m225/226\u001b[0m \u001b[32m━━━━━━━━━━━━━━━━━━━\u001b[0m\u001b[37m━\u001b[0m \u001b[1m0s\u001b[0m 3ms/step - accuracy: 1.0000 - auc: 1.0000 - loss: 1.8406e-08 - recall: 1.0000\n",
      "Epoch 18: val_accuracy did not improve from 1.00000\n",
      "\u001b[1m226/226\u001b[0m \u001b[32m━━━━━━━━━━━━━━━━━━━━\u001b[0m\u001b[37m\u001b[0m \u001b[1m1s\u001b[0m 5ms/step - accuracy: 1.0000 - auc: 1.0000 - loss: 1.8402e-08 - recall: 1.0000 - val_accuracy: 1.0000 - val_auc: 1.0000 - val_loss: 5.0096e-08 - val_recall: 1.0000\n",
      "Epoch 19/20\n",
      "\u001b[1m217/226\u001b[0m \u001b[32m━━━━━━━━━━━━━━━━━━━\u001b[0m\u001b[37m━\u001b[0m \u001b[1m0s\u001b[0m 7ms/step - accuracy: 1.0000 - auc: 1.0000 - loss: 1.5196e-08 - recall: 1.0000\n",
      "Epoch 19: val_accuracy did not improve from 1.00000\n",
      "\u001b[1m226/226\u001b[0m \u001b[32m━━━━━━━━━━━━━━━━━━━━\u001b[0m\u001b[37m\u001b[0m \u001b[1m2s\u001b[0m 9ms/step - accuracy: 1.0000 - auc: 1.0000 - loss: 1.5232e-08 - recall: 1.0000 - val_accuracy: 1.0000 - val_auc: 1.0000 - val_loss: 4.6566e-08 - val_recall: 1.0000\n",
      "Epoch 20/20\n",
      "\u001b[1m225/226\u001b[0m \u001b[32m━━━━━━━━━━━━━━━━━━━\u001b[0m\u001b[37m━\u001b[0m \u001b[1m0s\u001b[0m 6ms/step - accuracy: 1.0000 - auc: 1.0000 - loss: 1.4322e-08 - recall: 1.0000\n",
      "Epoch 20: val_accuracy did not improve from 1.00000\n",
      "\u001b[1m226/226\u001b[0m \u001b[32m━━━━━━━━━━━━━━━━━━━━\u001b[0m\u001b[37m\u001b[0m \u001b[1m2s\u001b[0m 7ms/step - accuracy: 1.0000 - auc: 1.0000 - loss: 1.4321e-08 - recall: 1.0000 - val_accuracy: 1.0000 - val_auc: 1.0000 - val_loss: 4.3397e-08 - val_recall: 1.0000\n"
     ]
    }
   ],
   "source": [
    "history = model.fit(\n",
    "    X_train_dense, y_train_vector,\n",
    "    validation_split=0.2,\n",
    "    epochs=20,\n",
    "    batch_size=16,\n",
    "    verbose=1,\n",
    "    callbacks=[early_stop, model_ckpt, tensorboard_cb]\n",
    ")"
   ]
  },
  {
   "cell_type": "code",
   "execution_count": 24,
   "id": "fa652db9",
   "metadata": {},
   "outputs": [
    {
     "data": {
      "text/plain": [
       "Reusing TensorBoard on port 6006 (pid 105293), started 7:35:34 ago. (Use '!kill 105293' to kill it.)"
      ]
     },
     "metadata": {},
     "output_type": "display_data"
    },
    {
     "data": {
      "text/html": [
       "\n",
       "      <iframe id=\"tensorboard-frame-f379e76c736812b3\" width=\"100%\" height=\"800\" frameborder=\"0\">\n",
       "      </iframe>\n",
       "      <script>\n",
       "        (function() {\n",
       "          const frame = document.getElementById(\"tensorboard-frame-f379e76c736812b3\");\n",
       "          const url = new URL(\"http://localhost\");\n",
       "          const port = 6006;\n",
       "          if (port) {\n",
       "            url.port = port;\n",
       "          }\n",
       "          frame.src = url;\n",
       "        })();\n",
       "      </script>\n",
       "    "
      ],
      "text/plain": [
       "<IPython.core.display.HTML object>"
      ]
     },
     "metadata": {},
     "output_type": "display_data"
    }
   ],
   "source": [
    "%tensorboard --logdir logs/fit"
   ]
  },
  {
   "cell_type": "code",
   "execution_count": null,
   "id": "bbe1886e",
   "metadata": {},
   "outputs": [],
   "source": []
  }
 ],
 "metadata": {
  "kernelspec": {
   "display_name": ".venv",
   "language": "python",
   "name": "python3"
  },
  "language_info": {
   "codemirror_mode": {
    "name": "ipython",
    "version": 3
   },
   "file_extension": ".py",
   "mimetype": "text/x-python",
   "name": "python",
   "nbconvert_exporter": "python",
   "pygments_lexer": "ipython3",
   "version": "3.12.3"
  }
 },
 "nbformat": 4,
 "nbformat_minor": 5
}
